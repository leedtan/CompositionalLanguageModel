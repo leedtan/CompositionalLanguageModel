{
 "cells": [
  {
   "cell_type": "code",
   "execution_count": 1,
   "metadata": {},
   "outputs": [
    {
     "name": "stderr",
     "output_type": "stream",
     "text": [
      "/home/lee/anaconda3/lib/python3.6/site-packages/h5py/__init__.py:36: FutureWarning: Conversion of the second argument of issubdtype from `float` to `np.floating` is deprecated. In future, it will be treated as `np.float64 == np.dtype(float).type`.\n",
      "  from ._conv import register_converters as _register_converters\n"
     ]
    }
   ],
   "source": [
    "\n",
    "# Import common dependencies\n",
    "import pandas as pd  # noqa\n",
    "import numpy as np\n",
    "import matplotlib  # noqa\n",
    "import matplotlib.pyplot as plt\n",
    "import datetime  # noqa\n",
    "import PIL  # noqa\n",
    "import glob  # noqa\n",
    "import pickle  # noqa\n",
    "from pathlib import Path  # noqa\n",
    "from scipy import misc  # noqa\n",
    "import sys\n",
    "import tensorflow as tf\n",
    "import pdb\n",
    "TRADE_COST_FRAC = .003\n",
    "EPSILON = 1e-10\n",
    "ADV_MULT = 1e-3"
   ]
  },
  {
   "cell_type": "code",
   "execution_count": 2,
   "metadata": {
    "collapsed": true,
    "scrolled": true
   },
   "outputs": [],
   "source": [
    "uni_tokens = set()\n",
    "uni_commands = set()\n",
    "uni_actions = set()\n",
    "fname = 'tasks_with_length_tags.txt'\n",
    "with open(fname) as f:\n",
    "    content = f.readlines()\n",
    "content2 = [c.split(' ') for c in content]\n",
    "# you may also want to remove whitespace characters like `\\n` at the end of each line\n",
    "commands = []\n",
    "actions = []\n",
    "content = [l.replace('\\n', '') for l in content]\n",
    "commands = [x.split(':::')[1].split(' ')[1:-1] for x in content]\n",
    "actions = [x.split(':::')[2].split(' ')[1:-2] for x in content]\n",
    "structures = [x.split(':::')[3].split(' ')[2:] for x in content]\n",
    "\n",
    "structures = [[int(l) for l in program] for program in structures]\n",
    "#actions = [[wd.replace('\\n', '') for wd in res] for res in actions]"
   ]
  },
  {
   "cell_type": "code",
   "execution_count": 3,
   "metadata": {},
   "outputs": [
    {
     "data": {
      "text/plain": [
       "(7, 10, 49, 9)"
      ]
     },
     "execution_count": 3,
     "metadata": {},
     "output_type": "execute_result"
    }
   ],
   "source": [
    "max_actions_per_subprogram = max([max([s for s in struct]) for struct in structures]) + 1\n",
    "max_num_subprograms = max([len(s) for s in structures]) + 1\n",
    "max_cmd_len = max([len(s) for s in commands]) + 1\n",
    "max_act_len = max([len(a) for a in actions]) + 1\n",
    "cmd_lengths_list = [len(s)+1 for s in commands]\n",
    "cmd_lengths_np = np.array(cmd_lengths_list)\n",
    "max_num_subprograms, max_cmd_len, max_act_len, max_actions_per_subprogram\n"
   ]
  },
  {
   "cell_type": "code",
   "execution_count": 4,
   "metadata": {
    "collapsed": true
   },
   "outputs": [],
   "source": [
    "def build_fmap_invmap(unique, num_unique):\n",
    "    fmap = dict(zip(unique, range(num_unique)))\n",
    "    invmap = dict(zip(range(num_unique), unique))\n",
    "    return fmap, invmap\n"
   ]
  },
  {
   "cell_type": "code",
   "execution_count": 5,
   "metadata": {
    "collapsed": true
   },
   "outputs": [],
   "source": [
    "for li in content2:\n",
    "    for wd in li:\n",
    "        uni_tokens.add(wd)\n",
    "for li in commands:\n",
    "    for wd in li:\n",
    "        uni_commands.add(wd)\n",
    "for li in actions:\n",
    "    for wd in li:\n",
    "        uni_actions.add(wd)\n",
    "uni_commands.add('end_command')\n",
    "uni_actions.add('end_subprogram')\n",
    "uni_actions.add('end_action')\n",
    "num_cmd = len(uni_commands)\n",
    "num_act = len(uni_actions)\n",
    "command_map, command_invmap = build_fmap_invmap(uni_commands, num_cmd)\n",
    "action_map, action_invmap = build_fmap_invmap(uni_actions, num_act)"
   ]
  },
  {
   "cell_type": "code",
   "execution_count": 6,
   "metadata": {
    "collapsed": true
   },
   "outputs": [],
   "source": [
    "\n",
    "\n",
    "def dense_scaled(prev_layer, layer_size, name=None, reuse=False, scale=1.0):\n",
    "    output = tf.layers.dense(prev_layer, layer_size, reuse=reuse) * scale\n",
    "    return output\n",
    "\n",
    "\n",
    "def dense_relu(dense_input, layer_size, scale=1.0):\n",
    "    dense = dense_scaled(dense_input, layer_size, scale=scale)\n",
    "    output = tf.nn.leaky_relu(dense)\n",
    "\n",
    "    return output\n",
    "\n",
    "def get_grad_norm(opt_fcn, loss):\n",
    "    gvs = opt_fcn.compute_gradients(loss)\n",
    "    grad_norm = tf.sqrt(tf.reduce_sum(\n",
    "        [tf.reduce_sum(tf.square(grad)) for grad, var in gvs if grad is not None]))\n",
    "    return grad_norm\n",
    "\n",
    "\n",
    "def apply_clipped_optimizer(opt_fcn, loss, clip_norm=.1, clip_single=.03, clip_global_norm=False):\n",
    "    gvs = opt_fcn.compute_gradients(loss)\n",
    "\n",
    "    if clip_global_norm:\n",
    "        gs, vs = zip(*[(g, v) for g, v in gvs if g is not None])\n",
    "        capped_gs, grad_norm_total = tf.clip_by_global_norm([g for g in gs], clip_norm)\n",
    "        capped_gvs = list(zip(capped_gs, vs))\n",
    "    else:\n",
    "        grad_norm_total = tf.sqrt(\n",
    "            tf.reduce_sum([tf.reduce_sum(tf.square(grad)) for grad, var in gvs if grad is not None]))\n",
    "        capped_gvs = [(tf.clip_by_value(grad, -1 * clip_single, clip_single), var)\n",
    "                      for grad, var in gvs if grad is not None]\n",
    "        capped_gvs = [(tf.clip_by_norm(grad, clip_norm), var) for grad, var in capped_gvs if grad is not None]\n",
    "\n",
    "    optimizer = opt_fcn.apply_gradients(capped_gvs)\n",
    "\n",
    "    return optimizer, grad_norm_total\n",
    "\n",
    "\n",
    "def mlp(x, hidden_sizes, output_size=None, name='', reuse=False):\n",
    "    prev_layer = x\n",
    "\n",
    "    for idx, l in enumerate(hidden_sizes):\n",
    "        dense = dense_scaled(prev_layer, l, name='mlp' + name + '_' + str(idx))\n",
    "        prev_layer = tf.nn.leaky_relu(dense)\n",
    "\n",
    "    output = prev_layer\n",
    "\n",
    "    if output_size is not None:\n",
    "        output = dense_scaled(prev_layer, output_size, name='mlp' + name + 'final')\n",
    "\n",
    "    return output\n",
    "\n",
    "def mlp_with_adversaries(x, hidden_sizes, output_size=None, name='', reuse=False):\n",
    "    prev_layer = x\n",
    "    adv_phs = []\n",
    "    for idx, l in enumerate(hidden_sizes):\n",
    "        \n",
    "        adversary = tf.placeholder_with_default(tf.zeros_like(prev_layer), prev_layer.shape)\n",
    "        prev_layer = prev_layer + adversary\n",
    "        adv_phs.append(adversary)\n",
    "        \n",
    "        dense = dense_scaled(prev_layer, l, name='mlp' + name + '_' + str(idx))\n",
    "        prev_layer = tf.nn.leaky_relu(dense)\n",
    "\n",
    "    output = prev_layer\n",
    "\n",
    "    if output_size is not None:\n",
    "        output = dense_scaled(prev_layer, output_size, name='mlp' + name + 'final')\n",
    "\n",
    "    return output, adv_phs\n",
    "\n"
   ]
  },
  {
   "cell_type": "code",
   "execution_count": 7,
   "metadata": {
    "collapsed": true
   },
   "outputs": [],
   "source": [
    "\n",
    "commands_ind = [[command_map[c] for c in cmd] + [0] * (max_cmd_len - len(cmd)) for cmd in commands]\n",
    "actions_ind = [[action_map[a] for a in act] + [0] * (max_act_len - len(act)) for act in actions]\n",
    "cmd_np = np.array(commands_ind)\n",
    "actions_structured = []\n",
    "mask_structured = []\n",
    "for row in range(len(structures)):\n",
    "    mask_row = []\n",
    "    action_row = []\n",
    "    act = actions_ind[row]\n",
    "    struct = structures[row]\n",
    "    start = 0\n",
    "    for step in struct:\n",
    "        end = start + step\n",
    "        a = act[start:end]\n",
    "        padding = max_actions_per_subprogram - step - 1\n",
    "        action_row.append(a + [action_map['end_action']] + [0] * padding)\n",
    "        start = end\n",
    "    actions_structured.append(\n",
    "        action_row + [[action_map['end_subprogram']] + [0] * (max_actions_per_subprogram - 1)] +\n",
    "        [[0] * max_actions_per_subprogram] * (max_num_subprograms - len(struct) - 1)\n",
    "    )\n",
    "act_np = np.array(actions_structured)\n",
    "struct_padded = [[sa + 1 for sa in s] + [1] + [0] * (max_num_subprograms - len(s) - 1) for s in structures]\n",
    "struct_np = np.array(struct_padded)\n",
    "\n",
    "mask_list = [[np.concatenate((np.ones(st), np.zeros(max_actions_per_subprogram - st)), 0) \n",
    "              for st in s] for s in struct_np]\n",
    "mask_np = np.array(mask_list)"
   ]
  },
  {
   "cell_type": "code",
   "execution_count": 8,
   "metadata": {
    "scrolled": false
   },
   "outputs": [
    {
     "name": "stdout",
     "output_type": "stream",
     "text": [
      "0\n",
      "1\n",
      "2\n",
      "0\n",
      "1\n",
      "2\n",
      "0\n",
      "1\n",
      "2\n",
      "0\n",
      "1\n",
      "2\n",
      "0\n",
      "1\n",
      "2\n",
      "0\n",
      "1\n",
      "2\n",
      "0\n",
      "1\n",
      "2\n",
      "WARNING:tensorflow:From /home/lee/.local/lib/python3.6/site-packages/tensorflow/python/ops/clip_ops.py:110: calling reduce_sum (from tensorflow.python.ops.math_ops) with keep_dims is deprecated and will be removed in a future version.\n",
      "Instructions for updating:\n",
      "keep_dims is deprecated, use keepdims instead\n"
     ]
    }
   ],
   "source": [
    "tf.reset_default_graph()\n",
    "default_sizes = 128\n",
    "size_emb = 64\n",
    "num_layers_encoder = 6\n",
    "hidden_filters = 128\n",
    "num_layers_subprogram = 3\n",
    "hidden_filters_subprogram = default_sizes\n",
    "cmd_mat = tf.Variable(1e-5*tf.random_normal([num_cmd, size_emb]))\n",
    "act_mat = tf.Variable(1e-5*tf.random_normal([num_act, size_emb]))\n",
    "global_bs = None\n",
    "global_time_len = 7\n",
    "action_lengths = None\n",
    "max_num_actions= None\n",
    "# global_bs = 8\n",
    "global_time_len = 7\n",
    "max_num_actions = 9\n",
    "cmd_ind = tf.placeholder(tf.int32, shape=(global_bs, 10,))\n",
    "act_ind = tf.placeholder(tf.int32, shape=(global_bs, global_time_len, 9))\n",
    "mask_ph = tf.placeholder(tf.float32, shape=(global_bs, global_time_len, 9))\n",
    "cmd_lengths = tf.placeholder(tf.int32, shape=(global_bs,))\n",
    "act_lengths = tf.placeholder(tf.int32, shape=(global_bs, 7))\n",
    "learning_rate = tf.placeholder(tf.float32, shape = (None))\n",
    "\n",
    "cmd_emb = tf.nn.embedding_lookup(cmd_mat, cmd_ind)\n",
    "act_emb = tf.nn.embedding_lookup(act_mat, act_ind)\n",
    "act_st_emb = tf.Variable(1e-5*tf.random_normal([size_emb]))\n",
    "tf_bs = tf.shape(act_ind)[0]\n",
    "act_st_emb_expanded = tf.tile(tf.reshape(\n",
    "    act_st_emb, [1, 1, 1, size_emb]), [tf_bs, global_time_len, 1, 1])\n",
    "act_emb_with_st = tf.concat((act_st_emb_expanded, act_emb), 2)\n",
    "\n",
    "first_cell_encoder = [tf.nn.rnn_cell.LSTMCell(\n",
    "    hidden_filters, forget_bias=1., name = 'layer1_'+d) for d in ['f', 'b']]\n",
    "hidden_cells_encoder = [[tf.nn.rnn_cell.LSTMCell(\n",
    "    hidden_filters,forget_bias=1., name = 'layer' + str(lidx) + '_' + d)  for d in ['f', 'b']]\n",
    "                        for lidx in range(num_layers_encoder - 1)]\n",
    "cells_encoder = [first_cell_encoder] + hidden_cells_encoder\n",
    "c1, c2 = zip(*cells_encoder)\n",
    "cells_encoder = [c1, c2]\n",
    "def encode(x, num_layers, cells, initial_states, lengths, name='',):\n",
    "    prev_layer = x\n",
    "    shortcut = x\n",
    "    hiddenlayers = []\n",
    "    returncells = []\n",
    "    cell_fw, cell_bw = cells\n",
    "    bs = tf.shape(x)[0]\n",
    "    for idx in range(num_layers):\n",
    "        prev_layer, c = tf.nn.bidirectional_dynamic_rnn(\n",
    "                cell_fw = cell_fw[idx],\n",
    "                cell_bw = cell_bw[idx],\n",
    "                inputs = prev_layer,\n",
    "                sequence_length=lengths,\n",
    "                initial_state_fw=None,\n",
    "                initial_state_bw=None,\n",
    "                dtype=tf.float32,\n",
    "                scope='encoder'+str(idx)\n",
    "            )\n",
    "        prev_layer = tf.concat(prev_layer, 2)\n",
    "        prev_layer = tf.nn.leaky_relu(prev_layer)\n",
    "        returncells.append(c)\n",
    "        hiddenlayers.append(prev_layer)\n",
    "        if idx == num_layers - 1:\n",
    "            #pdb.set_trace()\n",
    "            output = tf.gather_nd(\n",
    "                        prev_layer,\n",
    "                        tf.stack([tf.range(bs), lengths], 1),\n",
    "                        name=None\n",
    "                    )\n",
    "            return prev_layer, returncells, hiddenlayers, output\n",
    "        prev_layer = tf.concat((prev_layer, shortcut), 2)\n",
    "encoding_last_layer, encoding_final_cells, encoding_hidden_layers, encoding_last_timestep = encode(\n",
    "    cmd_emb, num_layers_encoder, cells_encoder,None, lengths = cmd_lengths, name = 'encoder')\n",
    "# encoding_last_timestep = encoding_last_layer[:,cmd_lengths, :]\n",
    "hidden_filters_encoder = encoding_last_timestep.shape[-1].value\n",
    "first_cell_subprogram = tf.nn.rnn_cell.LSTMCell(\n",
    "    hidden_filters_subprogram, forget_bias=1., name = 'subpogramlayer1_')\n",
    "hidden_cells_subprogram = [tf.nn.rnn_cell.LSTMCell(\n",
    "    hidden_filters_subprogram,forget_bias=1., name = 'subpogramlayer' + str(lidx))\n",
    "                        for lidx in range(num_layers_subprogram - 1)]\n",
    "\n",
    "cells_subprogram_rnn = [first_cell_subprogram] + hidden_cells_subprogram\n",
    "\n",
    "attention_mechanism = tf.contrib.seq2seq.BahdanauAttention(\n",
    "    num_units=hidden_filters_encoder, memory=encoding_last_layer,\n",
    "    memory_sequence_length=cmd_lengths)\n",
    "attention_mechanism = tf.contrib.seq2seq.LuongAttention(\n",
    "    num_units=hidden_filters_encoder//2, memory=encoding_last_layer,\n",
    "    memory_sequence_length=cmd_lengths)\n",
    "cells_subprogram = [\n",
    "    tf.contrib.seq2seq.AttentionWrapper(\n",
    "        cell, attention_mechanism, attention_layer_size = hidden_filters_subprogram) \n",
    "    for cell in cells_subprogram_rnn]\n",
    "\n",
    "def subprogram(x, num_layers, cells, initial_states, lengths, reuse, name='',):\n",
    "    prev_layer = x\n",
    "    shortcut = x\n",
    "    hiddenlayers = []\n",
    "    returncells = []\n",
    "    bs = tf.shape(x)[0]\n",
    "    for idx in range(num_layers):\n",
    "        print(idx)\n",
    "        if idx == 0:\n",
    "            num_past_units = hidden_filters\n",
    "        else:\n",
    "            num_past_units = hidden_filters_subprogram\n",
    "        with tf.variable_scope(name + 'subprogram' + str(idx), reuse=reuse):\n",
    "            self_attention_mechanism = tf.contrib.seq2seq.LuongAttention(\n",
    "                num_units=num_past_units, memory=prev_layer,\n",
    "                memory_sequence_length=lengths)\n",
    "            cell_with_selfattention = tf.contrib.seq2seq.AttentionWrapper(\n",
    "                    cells[idx], self_attention_mechanism, attention_layer_size = num_past_units)\n",
    "\n",
    "            prev_layer, c = tf.nn.dynamic_rnn(\n",
    "                    cell = cell_with_selfattention,\n",
    "                    inputs = prev_layer,\n",
    "                    sequence_length=lengths,\n",
    "                    initial_state = None,\n",
    "                    dtype=tf.float32,\n",
    "                )\n",
    "            prev_layer = tf.concat(prev_layer, 2)\n",
    "            prev_layer = tf.nn.leaky_relu(prev_layer)\n",
    "            returncells.append(c)\n",
    "            hiddenlayers.append(prev_layer)\n",
    "            if idx == num_layers - 1:\n",
    "                output = tf.gather_nd(\n",
    "                            prev_layer,\n",
    "                            tf.stack([tf.range(bs), lengths], 1),\n",
    "                            name=None\n",
    "                        )\n",
    "                return prev_layer, returncells, hiddenlayers, output\n",
    "            prev_layer = tf.concat((prev_layer, shortcut), 2)\n",
    "encodings = [encoding_last_timestep]\n",
    "last_encoding = encoding_last_timestep\n",
    "initial_cmb_encoding = last_encoding\n",
    "loss = 0\n",
    "action_probabilities_presoftmax = []\n",
    "for sub_idx in range(max_num_subprograms): \n",
    "    from_last_layer = tf.tile(tf.expand_dims(tf.concat((\n",
    "        last_encoding, initial_cmb_encoding), 1), 1), [1, max_num_actions + 1, 1])\n",
    "    autoregressive = act_emb_with_st[:,sub_idx, :, :]\n",
    "    x_input = tf.concat((from_last_layer, autoregressive), -1)\n",
    "    subprogram_last_layer, _, subprogram_hidden_layers, subprogram_output = subprogram(\n",
    "        x_input, num_layers_subprogram, cells_subprogram,None, \n",
    "        lengths = act_lengths[:, sub_idx], reuse = (sub_idx > 0), name = 'subprogram')\n",
    "    action_prob_flat = mlp(\n",
    "        tf.reshape(subprogram_last_layer, [-1, hidden_filters_subprogram]),\n",
    "        [], output_size = num_act, name = 'action_choice_mlp', reuse = (sub_idx > 0))\n",
    "    action_prob_expanded = tf.reshape(action_prob_flat, [-1, max_num_actions + 1, num_act])\n",
    "    action_probabilities_layer = tf.nn.softmax(action_prob_expanded, axis=-1)\n",
    "    action_probabilities_presoftmax.append(action_prob_expanded)\n",
    "    delta = mlp(\n",
    "        subprogram_output, [64], output_size = hidden_filters_encoder, name = 'global_transform',\n",
    "        reuse = (sub_idx > 0)\n",
    "    )\n",
    "    last_encoding = last_encoding + delta\n",
    "    encodings.append(last_encoding)\n",
    "act_presoftmax = tf.stack(action_probabilities_presoftmax, 1)[:, :, :-1, :]\n",
    "#batch, subprogram, timestep, action_selection\n",
    "logprobabilities = tf.nn.log_softmax(act_presoftmax, -1)\n",
    "act_presoftmax_flat = tf.reshape(act_presoftmax, [-1, 9, num_act])\n",
    "mask_ph_flat = tf.reshape(mask_ph, [-1, max_actions_per_subprogram])\n",
    "act_ind_flat = tf.reshape(act_ind, [-1, max_actions_per_subprogram])\n",
    "ppl_loss = tf.contrib.seq2seq.sequence_loss(\n",
    "    logits = act_presoftmax_flat,\n",
    "    targets = act_ind_flat,\n",
    "    weights = mask_ph_flat,\n",
    "    average_across_timesteps=False,\n",
    "    average_across_batch=False,\n",
    "    softmax_loss_function=None,\n",
    "    name=None\n",
    ")\n",
    "ppl_loss_avg = tf.reduce_mean(tf.pow(ppl_loss, 1.5)) * 100\n",
    "\n",
    "tfvars = tf.trainable_variables()\n",
    "weight_norm = tf.reduce_mean([tf.reduce_sum(tf.square(var)) for var in tfvars])*1e-4\n",
    "\n",
    "action_taken = tf.argmax(act_presoftmax, -1, output_type=tf.int32)\n",
    "correct_mat = tf.cast(tf.equal(action_taken, act_ind), tf.float32) * mask_ph\n",
    "correct_percent = tf.reduce_sum(correct_mat, [1, 2])/tf.reduce_sum(mask_ph, [1, 2])\n",
    "percent_correct = tf.reduce_mean(correct_percent)\n",
    "percent_fully_correct = tf.reduce_mean(tf.cast(tf.equal(correct_percent, 1), tf.float32))\n",
    "\n",
    "loss = ppl_loss_avg + weight_norm\n",
    "\n",
    "opt_fcn = tf.train.AdamOptimizer(learning_rate=learning_rate)\n",
    "optimizer, grad_norm_total = apply_clipped_optimizer(opt_fcn, loss)\n",
    "sess = tf.Session()\n",
    "sess.run(tf.global_variables_initializer())"
   ]
  },
  {
   "cell_type": "code",
   "execution_count": 9,
   "metadata": {},
   "outputs": [
    {
     "data": {
      "text/plain": [
       "128"
      ]
     },
     "execution_count": 9,
     "metadata": {},
     "output_type": "execute_result"
    }
   ],
   "source": [
    "hidden_filters"
   ]
  },
  {
   "cell_type": "code",
   "execution_count": 10,
   "metadata": {
    "scrolled": true
   },
   "outputs": [
    {
     "data": {
      "text/plain": [
       "<tf.Tensor 'LeakyRelu_5/Maximum:0' shape=(?, 10, 256) dtype=float32>"
      ]
     },
     "execution_count": 10,
     "metadata": {},
     "output_type": "execute_result"
    }
   ],
   "source": [
    "encoding_last_layer"
   ]
  },
  {
   "cell_type": "code",
   "execution_count": null,
   "metadata": {},
   "outputs": [],
   "source": [
    "np.random.seed(0)\n",
    "trn_percent = .4\n",
    "num_samples = mask_np.shape[0]\n",
    "ordered_samples = np.arange(num_samples)\n",
    "np.random.shuffle(ordered_samples)\n",
    "trn_samples = ordered_samples[:int(np.ceil(num_samples*trn_percent))]\n",
    "val_samples_all = ordered_samples[int(np.ceil(num_samples*trn_percent)):]\n",
    "val_samples = val_samples_all"
   ]
  },
  {
   "cell_type": "code",
   "execution_count": null,
   "metadata": {
    "scrolled": true
   },
   "outputs": [
    {
     "name": "stdout",
     "output_type": "stream",
     "text": [
      "itr: 10 trn_loss 82.17039401544372 val_loss 74.574615\n",
      "itr: 10 trn_acc 0.0 trn_single_acc 0.2562928424341259 val_acc 0.00015941336\n",
      "itr: 20 trn_loss 68.15842819376148 val_loss 72.00695724487305\n",
      "itr: 20 trn_acc 0.0049960495703125 trn_single_acc 0.45468032238915984 val_acc 0.0018491949114832096\n",
      "itr: 30 trn_loss 54.385508203198505 val_loss 69.24918869018555\n",
      "itr: 30 trn_acc 0.010422892843104464 trn_single_acc 0.5928866806206856 val_acc 0.0043344491398602265\n",
      "itr: 40 trn_loss 42.68143100053371 val_loss 64.76471495819092\n",
      "itr: 40 trn_acc 0.026818098758488118 trn_single_acc 0.67630749879798 val_acc 0.013856368691587706\n",
      "itr: 50 trn_loss 38.102719073173404 val_loss 61.7618987815857\n",
      "itr: 50 trn_acc 0.029908987748588634 trn_single_acc 0.7162086373570993 val_acc 0.014280073469159837\n",
      "itr: 60 trn_loss 26.776336818087373 val_loss 57.51965513145448\n",
      "itr: 60 trn_acc 0.12557925512556978 trn_single_acc 0.8080865677894704 val_acc 0.0298216187583904\n",
      "itr: 70 trn_loss 19.846525755099208 val_loss 53.340580186088566\n",
      "itr: 70 trn_acc 0.2800803812029005 trn_single_acc 0.8734621531273499 val_acc 0.04578573497779673\n",
      "itr: 80 trn_loss 13.188598639551323 val_loss 48.48923324421616\n",
      "itr: 80 trn_acc 0.46443794336340954 trn_single_acc 0.9182984553562168 val_acc 0.12280288630110775\n",
      "itr: 90 trn_loss 6.349590979711782 val_loss 43.77717808671807\n",
      "itr: 90 trn_acc 0.7529429700034871 trn_single_acc 0.9666748914772145 val_acc 0.20880093538805328\n",
      "itr: 100 trn_loss 9.03278025023976 val_loss 39.47693345357193\n",
      "itr: 100 trn_acc 0.756810864818202 trn_single_acc 0.9671186916131226 val_acc 0.28535428968707754\n",
      "itr: 110 trn_loss 3.814798366509799 val_loss 35.56576534875524\n",
      "itr: 110 trn_acc 0.896309312102574 trn_single_acc 0.9872584048645459 val_acc 0.35663553471243414\n",
      "itr: 120 trn_loss 2.3923754462795555 val_loss 32.025949222758044\n",
      "itr: 120 trn_acc 0.9164929552691548 trn_single_acc 0.992165729625938 val_acc 0.4207806860942486\n",
      "itr: 130 trn_loss 0.9508321263303737 val_loss 28.830659187955824\n",
      "itr: 130 trn_acc 0.9633942382418254 trn_single_acc 0.996707103766063 val_acc 0.4787026174848238\n",
      "itr: 140 trn_loss 0.49569493336484133 val_loss 25.950688956341\n",
      "itr: 140 trn_acc 0.9840071179039874 trn_single_acc 0.998596755454079 val_acc 0.5308323557363415\n",
      "itr: 150 trn_loss 0.18610354223800024 val_loss 23.357069650138186\n",
      "itr: 150 trn_acc 0.9944236268180591 trn_single_acc 0.9995107188806494 val_acc 0.5777491201627073\n",
      "itr: 160 trn_loss 0.1011032818706584 val_loss 21.306563853184674\n",
      "itr: 160 trn_acc 0.9953540763975055 trn_single_acc 0.9996321604686663 val_acc 0.619320613414152\n",
      "itr: 170 trn_loss 0.3782054188456943 val_loss 19.177131015902276\n",
      "itr: 170 trn_acc 0.9959063748257708 trn_single_acc 0.9996820841574953 val_acc 0.6573885520727368\n",
      "itr: 180 trn_loss 0.13910229795033643 val_loss 17.26058813211666\n",
      "itr: 180 trn_acc 0.9985726411598957 trn_single_acc 0.9998891495999523 val_acc 0.6916417277244568\n",
      "itr: 190 trn_loss 0.05536840337933606 val_loss 15.535649231227605\n",
      "itr: 190 trn_acc 0.9995023107461696 trn_single_acc 0.9999613488554269 val_acc 0.7224695858110046\n",
      "itr: 200 trn_loss 0.02598795594721859 val_loss 13.983200077997775\n",
      "itr: 200 trn_acc 0.9998264664873199 trn_single_acc 0.9999865231792021 val_acc 0.7502146580888978\n",
      "itr: 210 trn_loss 0.01560559710626044 val_loss 12.585877934466719\n",
      "itr: 210 trn_acc 0.9999394926054936 trn_single_acc 0.9999953009231467 val_acc 0.7751931922800079\n",
      "itr: 220 trn_loss 0.011897549141876376 val_loss 11.328276140518563\n",
      "itr: 220 trn_acc 0.9999789023760689 trn_single_acc 0.999998361533213 val_acc 0.7976738730520071\n",
      "itr: 230 trn_loss 0.010538777483929682 val_loss 10.196424933808366\n",
      "itr: 230 trn_acc 0.9999926437133978 trn_single_acc 0.9999994287019566 val_acc 0.8179064857468064\n",
      "itr: 240 trn_loss 0.009994523129682058 val_loss 9.177750549219388\n",
      "itr: 240 trn_acc 0.9999974350214627 trn_single_acc 0.9999998008006894 val_acc 0.8361158371721257\n",
      "itr: 250 trn_loss 0.009746190498749089 val_loss 8.260936367923623\n",
      "itr: 250 trn_acc 0.9999991056472846 trn_single_acc 0.9999999305434949 val_acc 0.8525042534549131\n",
      "itr: 260 trn_loss 0.009627218748959413 val_loss 7.435797063520199\n",
      "itr: 260 trn_acc 0.9999996881584903 trn_single_acc 0.999999975782014 val_acc 0.8672538281094218\n",
      "itr: 270 trn_loss 0.00954817070690427 val_loss 6.693165688673239\n",
      "itr: 270 trn_acc 0.9999998912675887 trn_single_acc 0.9999999915557103 val_acc 0.8805284452984796\n",
      "itr: 280 trn_loss 0.009472721798301283 val_loss 6.024791742303592\n",
      "itr: 280 trn_acc 0.9999999620873524 trn_single_acc 0.9999999970556582 val_acc 0.8924756007686316\n",
      "itr: 290 trn_loss 0.009420221314319903 val_loss 5.423249767013898\n",
      "itr: 290 trn_acc 0.999999986780677 trn_single_acc 0.9999999989733716 val_acc 0.9032280406917684\n",
      "itr: 300 trn_loss 0.009371387579608747 val_loss 4.881856862043002\n",
      "itr: 300 trn_acc 0.9999999953907072 trn_single_acc 0.9999999996420368 val_acc 0.9129052366225916\n",
      "itr: 310 trn_loss 0.009311218106310361 val_loss 4.394598531351678\n",
      "itr: 310 trn_acc 0.999999998392839 trn_single_acc 0.999999999875186 val_acc 0.9216147129603325\n",
      "itr: 320 trn_loss 0.009268356261685613 val_loss 3.956061433368498\n",
      "itr: 320 trn_acc 0.9999999994396176 trn_single_acc 0.9999999999564798 val_acc 0.9294532416642992\n",
      "itr: 330 trn_loss 0.00922519716027033 val_loss 3.561373665918625\n",
      "itr: 330 trn_acc 0.9999999998046067 trn_single_acc 0.9999999999848255 val_acc 0.9365079174978693\n",
      "itr: 340 trn_loss 0.009170051053549327 val_loss 3.2061506576744168\n",
      "itr: 340 trn_acc 0.9999999999318707 trn_single_acc 0.999999999994709 val_acc 0.9428571257480823\n",
      "itr: 350 trn_loss 0.009128252499193872 val_loss 2.8864458492688043\n",
      "itr: 350 trn_acc 0.9999999999762448 trn_single_acc 0.999999999998155 val_acc 0.9485714131732741\n",
      "itr: 360 trn_loss 0.009097813537258432 val_loss 2.5987074942924115\n",
      "itr: 360 trn_acc 0.9999999999917171 trn_single_acc 0.9999999999993566 val_acc 0.9537142718559467\n",
      "itr: 370 trn_loss 0.009058699640636436 val_loss 2.3397391812574146\n",
      "itr: 370 trn_acc 0.9999999999971119 trn_single_acc 0.9999999999997756 val_acc 0.958342844670352\n",
      "itr: 380 trn_loss 0.009017799331839436 val_loss 2.1066640463199864\n",
      "itr: 380 trn_acc 0.9999999999989929 trn_single_acc 0.9999999999999217 val_acc 0.9625085602033168\n",
      "itr: 390 trn_loss 0.008980976118505188 val_loss 1.8968928429165468\n",
      "itr: 390 trn_acc 0.9999999999996487 trn_single_acc 0.9999999999999726 val_acc 0.9662577041829851\n",
      "itr: 400 trn_loss 0.008944484389885142 val_loss 1.708095308837651\n",
      "itr: 400 trn_acc 0.9999999999998775 trn_single_acc 0.9999999999999905 val_acc 0.9696319337646866\n",
      "itr: 410 trn_loss 0.008912096917125155 val_loss 1.5381741751259792\n",
      "itr: 410 trn_acc 0.9999999999999573 trn_single_acc 0.9999999999999967 val_acc 0.9726687403882179\n",
      "itr: 420 trn_loss 0.008877106047907687 val_loss 1.3852418843531216\n",
      "itr: 420 trn_acc 0.999999999999985 trn_single_acc 0.9999999999999988 val_acc 0.9754018663493962\n",
      "itr: 430 trn_loss 0.00884434202082341 val_loss 1.2475996352060381\n",
      "itr: 430 trn_acc 0.9999999999999947 trn_single_acc 0.9999999999999994 val_acc 0.9778616797144566\n",
      "itr: 440 trn_loss 0.008818258893145754 val_loss 1.1237184858276317\n",
      "itr: 440 trn_acc 0.9999999999999981 trn_single_acc 0.9999999999999994 val_acc 0.9800755117430109\n",
      "itr: 450 trn_loss 0.008784407475654375 val_loss 1.0122223985116663\n",
      "itr: 450 trn_acc 0.9999999999999993 trn_single_acc 0.9999999999999994 val_acc 0.9820679605687098\n",
      "itr: 460 trn_loss 0.00875191265618085 val_loss 0.9118729442585393\n",
      "itr: 460 trn_acc 0.9999999999999994 trn_single_acc 0.9999999999999994 val_acc 0.9838611645118388\n",
      "itr: 470 trn_loss 0.008721653804798437 val_loss 0.8215555265377954\n",
      "itr: 470 trn_acc 0.9999999999999994 trn_single_acc 0.9999999999999994 val_acc 0.9854750480606549\n",
      "itr: 480 trn_loss 0.008690471678517655 val_loss 0.7402670169470604\n",
      "itr: 480 trn_acc 0.9999999999999994 trn_single_acc 0.9999999999999994 val_acc 0.9869275432545894\n",
      "itr: 490 trn_loss 0.008664342582026948 val_loss 0.6671045764548685\n",
      "itr: 490 trn_acc 0.9999999999999994 trn_single_acc 0.9999999999999994 val_acc 0.9882347889291305\n",
      "itr: 500 trn_loss 0.00863584088732635 val_loss 0.6012556534719263\n",
      "itr: 500 trn_acc 0.9999999999999994 trn_single_acc 0.9999999999999994 val_acc 0.9894113100362175\n",
      "itr: 510 trn_loss 0.008610208496832882 val_loss 0.5419889518472667\n",
      "itr: 510 trn_acc 0.9999999999999994 trn_single_acc 0.9999999999999994 val_acc 0.9904701790325957\n"
     ]
    },
    {
     "name": "stdout",
     "output_type": "stream",
     "text": [
      "itr: 520 trn_loss 0.008582914484658918 val_loss 0.4886462929378255\n",
      "itr: 520 trn_acc 0.9999999999999994 trn_single_acc 0.9999999999999994 val_acc 0.9914231611293362\n",
      "itr: 530 trn_loss 0.008558916135315564 val_loss 0.44063532695445157\n",
      "itr: 530 trn_acc 0.9999999999999994 trn_single_acc 0.9999999999999994 val_acc 0.9922808450164026\n",
      "itr: 540 trn_loss 0.00853167629658907 val_loss 0.39742292409261526\n",
      "itr: 540 trn_acc 0.9999999999999994 trn_single_acc 0.9999999999999994 val_acc 0.9930527605147623\n",
      "itr: 550 trn_loss 0.00850693817605163 val_loss 0.3585292807530206\n",
      "itr: 550 trn_acc 0.9999999999999994 trn_single_acc 0.9999999999999994 val_acc 0.9937474844632861\n",
      "itr: 560 trn_loss 0.008483746924339227 val_loss 0.32352255721189155\n",
      "itr: 560 trn_acc 0.9999999999999994 trn_single_acc 0.9999999999999994 val_acc 0.9943727360169575\n",
      "itr: 570 trn_loss 0.008461960188809013 val_loss 0.2920140911054394\n",
      "itr: 570 trn_acc 0.9999999999999994 trn_single_acc 0.9999999999999994 val_acc 0.9949354624152618\n",
      "itr: 580 trn_loss 0.00843316007913727 val_loss 0.2636540909628673\n",
      "itr: 580 trn_acc 0.9999999999999994 trn_single_acc 0.9999999999999994 val_acc 0.9954419161737356\n",
      "itr: 590 trn_loss 0.008409940838711636 val_loss 0.2381277686748448\n",
      "itr: 590 trn_acc 0.9999999999999994 trn_single_acc 0.9999999999999994 val_acc 0.995897724556362\n",
      "itr: 600 trn_loss 0.008389827159220561 val_loss 0.21515179110111682\n",
      "itr: 600 trn_acc 0.9999999999999994 trn_single_acc 0.9999999999999994 val_acc 0.9963079521007259\n",
      "itr: 610 trn_loss 0.00836473837099914 val_loss 0.19447115310691496\n",
      "itr: 610 trn_acc 0.9999999999999994 trn_single_acc 0.9999999999999994 val_acc 0.9966771568906533\n",
      "itr: 620 trn_loss 0.00834394342402207 val_loss 0.17585635081600579\n",
      "itr: 620 trn_acc 0.9999999999999994 trn_single_acc 0.9999999999999994 val_acc 0.997009441201588\n",
      "itr: 630 trn_loss 0.008319890289122134 val_loss 0.15910083623458235\n",
      "itr: 630 trn_acc 0.9999999999999994 trn_single_acc 0.9999999999999994 val_acc 0.9973084970814292\n",
      "itr: 640 trn_loss 0.00829876412616562 val_loss 0.14401871793773136\n",
      "itr: 640 trn_acc 0.9999999999999994 trn_single_acc 0.9999999999999994 val_acc 0.9975776473732862\n",
      "itr: 650 trn_loss 0.008275220716034601 val_loss 0.1304426889864179\n",
      "itr: 650 trn_acc 0.9999999999999994 trn_single_acc 0.9999999999999994 val_acc 0.9978198826359577\n",
      "itr: 660 trn_loss 0.008253878502970415 val_loss 0.11822217201792352\n",
      "itr: 660 trn_acc 0.9999999999999994 trn_single_acc 0.9999999999999994 val_acc 0.9980378943723619\n",
      "itr: 670 trn_loss 0.00823376813697543 val_loss 0.10722164153846937\n",
      "itr: 670 trn_acc 0.9999999999999994 trn_single_acc 0.9999999999999994 val_acc 0.9982341049351257\n",
      "itr: 680 trn_loss 0.008213366935437762 val_loss 0.09731913075038347\n",
      "itr: 680 trn_acc 0.9999999999999994 trn_single_acc 0.9999999999999994 val_acc 0.9984106944416131\n",
      "itr: 690 trn_loss 0.008194304313976176 val_loss 0.08840486413409013\n",
      "itr: 690 trn_acc 0.9999999999999994 trn_single_acc 0.9999999999999994 val_acc 0.9985696249974518\n",
      "itr: 700 trn_loss 0.008176947744739258 val_loss 0.08038003636452286\n",
      "itr: 700 trn_acc 0.9999999999999994 trn_single_acc 0.9999999999999994 val_acc 0.9987126624977066\n",
      "itr: 710 trn_loss 0.008154929497607405 val_loss 0.073155733918125\n",
      "itr: 710 trn_acc 0.9999999999999994 trn_single_acc 0.9999999999999994 val_acc 0.998841396247936\n",
      "itr: 720 trn_loss 0.008133330443680652 val_loss 0.06665193015334717\n",
      "itr: 720 trn_acc 0.9999999999999994 trn_single_acc 0.9999999999999994 val_acc 0.9989572566231424\n",
      "itr: 730 trn_loss 0.008115083257994309 val_loss 0.060796602955440086\n",
      "itr: 730 trn_acc 0.9999999999999994 trn_single_acc 0.9999999999999994 val_acc 0.9990615309608282\n",
      "itr: 740 trn_loss 0.0080963408950115 val_loss 0.05552492524994559\n",
      "itr: 740 trn_acc 0.9999999999999994 trn_single_acc 0.9999999999999994 val_acc 0.9991553778647454\n",
      "itr: 750 trn_loss 0.008078209618795072 val_loss 0.050778550807206155\n",
      "itr: 750 trn_acc 0.9999999999999994 trn_single_acc 0.9999999999999994 val_acc 0.9992398400782708\n",
      "itr: 760 trn_loss 0.008059076854673185 val_loss 0.04650497472605257\n",
      "itr: 760 trn_acc 0.9999999999999994 trn_single_acc 0.9999999999999994 val_acc 0.9993158560704437\n",
      "itr: 770 trn_loss 0.00803767953760273 val_loss 0.042656943806151884\n",
      "itr: 770 trn_acc 0.9999999999999994 trn_single_acc 0.9999999999999994 val_acc 0.9993842704633993\n",
      "itr: 780 trn_loss 0.008021715901623441 val_loss 0.0391919239273432\n",
      "itr: 780 trn_acc 0.9999999999999994 trn_single_acc 0.9999999999999994 val_acc 0.9994458434170593\n",
      "itr: 790 trn_loss 0.008003396627301044 val_loss 0.036071632611968794\n",
      "itr: 790 trn_acc 0.9999999999999994 trn_single_acc 0.9999999999999994 val_acc 0.9995012590753534\n",
      "itr: 800 trn_loss 0.007986809921579048 val_loss 0.03326161786531092\n",
      "itr: 800 trn_acc 0.9999999999999994 trn_single_acc 0.9999999999999994 val_acc 0.9995511331678181\n",
      "itr: 810 trn_loss 0.007969376909407412 val_loss 0.03073086749045266\n",
      "itr: 810 trn_acc 0.9999999999999994 trn_single_acc 0.9999999999999994 val_acc 0.9995960198510363\n",
      "itr: 820 trn_loss 0.007949593675173635 val_loss 0.02845147824014616\n",
      "itr: 820 trn_acc 0.9999999999999994 trn_single_acc 0.9999999999999994 val_acc 0.9996364178659327\n",
      "itr: 830 trn_loss 0.00793490518780698 val_loss 0.026398332907784507\n",
      "itr: 830 trn_acc 0.9999999999999994 trn_single_acc 0.9999999999999994 val_acc 0.9996727760793395\n",
      "itr: 840 trn_loss 0.007916526820275842 val_loss 0.024548826100553745\n",
      "itr: 840 trn_acc 0.9999999999999994 trn_single_acc 0.9999999999999994 val_acc 0.9997054984714056\n",
      "itr: 850 trn_loss 0.00790037288613596 val_loss 0.022882608494572947\n",
      "itr: 850 trn_acc 0.9999999999999994 trn_single_acc 0.9999999999999994 val_acc 0.999734948624265\n",
      "itr: 860 trn_loss 0.00788302877472484 val_loss 0.021381369423639576\n",
      "itr: 860 trn_acc 0.9999999999999994 trn_single_acc 0.9999999999999994 val_acc 0.9997614537618386\n",
      "itr: 870 trn_loss 0.007866006982238268 val_loss 0.02002862900877458\n",
      "itr: 870 trn_acc 0.9999999999999994 trn_single_acc 0.9999999999999994 val_acc 0.9997853083856547\n"
     ]
    }
   ],
   "source": [
    "eval_itr = -1\n",
    "bs = 256\n",
    "for itr in range(10000):\n",
    "    samples = np.random.choice(trn_samples, size = bs, replace = False)\n",
    "    if True:#itr == 0:\n",
    "        trn_feed_dict = {\n",
    "            cmd_ind : cmd_np[samples],\n",
    "            act_ind : act_np[samples],\n",
    "            mask_ph : mask_np[samples],\n",
    "            act_lengths : np.clip(struct_np[samples], a_min = 1, a_max = None),\n",
    "            cmd_lengths : cmd_lengths_np[samples],\n",
    "        }\n",
    "        \n",
    "    trn_feed_dict[learning_rate] = .01 / (np.sqrt(itr + 10))\n",
    "    _, trn_loss, acc_trn_single, acc_trn = sess.run(\n",
    "        [optimizer, loss, percent_correct, percent_fully_correct], trn_feed_dict)\n",
    "    if itr == 0:\n",
    "        trn_loss_avg = trn_loss\n",
    "        acc_trn_avg = acc_trn\n",
    "        acc_trn_single_avg = acc_trn_single\n",
    "    else:\n",
    "        trn_loss_avg = trn_loss_avg * .9 + trn_loss * .1\n",
    "        acc_trn_avg = acc_trn_avg * .9 + acc_trn * .1\n",
    "        acc_trn_single_avg = acc_trn_single_avg * .9 + acc_trn_single * .1\n",
    "    if itr % 10 == 0 and itr > 0:\n",
    "        # val_samples = np.random.choice(val_samples_all, size = bs, replace = False)\n",
    "        eval_itr += 1\n",
    "        val_feed_dict = {\n",
    "            cmd_ind : cmd_np[val_samples],\n",
    "            act_ind : act_np[val_samples],\n",
    "            mask_ph : mask_np[val_samples],\n",
    "            act_lengths : np.clip(struct_np[val_samples], a_min = 1, a_max = None),\n",
    "            cmd_lengths : cmd_lengths_np[val_samples]\n",
    "        }\n",
    "        val_loss, acc_val = sess.run([loss, percent_fully_correct], val_feed_dict)\n",
    "        if eval_itr == 0:\n",
    "            val_loss_avg = val_loss\n",
    "            acc_val_avg = acc_val\n",
    "        else:\n",
    "            val_loss_avg = val_loss_avg * .9 + val_loss * .1\n",
    "            acc_val_avg = acc_val_avg * .9 + acc_val * .1\n",
    "        print('itr:', itr, 'trn_loss', trn_loss_avg, 'val_loss', val_loss_avg)\n",
    "        print('itr:', itr, 'trn_acc', acc_trn_avg, \n",
    "              'trn_single_acc', acc_trn_single_avg, 'val_acc', acc_val_avg)"
   ]
  },
  {
   "cell_type": "code",
   "execution_count": null,
   "metadata": {},
   "outputs": [],
   "source": [
    "correct_percent.shape, percent_fully_correct.shape"
   ]
  },
  {
   "cell_type": "code",
   "execution_count": null,
   "metadata": {
    "scrolled": false
   },
   "outputs": [],
   "source": [
    "10, None, 7, 9, None"
   ]
  },
  {
   "cell_type": "code",
   "execution_count": null,
   "metadata": {},
   "outputs": [],
   "source": [
    "cmd_np.shape, act_np.shape, mask_np.shape, struct_np.shape, cmd_lengths_np.shape"
   ]
  },
  {
   "cell_type": "code",
   "execution_count": null,
   "metadata": {
    "scrolled": false
   },
   "outputs": [],
   "source": [
    "cmd_ind.shape, act_ind.shape, mask_ph.shape, act_lengths.shape, cmd_lengths.shape"
   ]
  },
  {
   "cell_type": "code",
   "execution_count": null,
   "metadata": {},
   "outputs": [],
   "source": [
    "trn_samples.shape, val_samples.shape"
   ]
  },
  {
   "cell_type": "code",
   "execution_count": null,
   "metadata": {
    "collapsed": true
   },
   "outputs": [],
   "source": [
    "\n",
    "act_presoftmax = tf.stack(action_probabilities_presoftmax, 1)[:, :, :-1, :]\n",
    "#batch, subprogram, timestep, action_selection\n",
    "logprobabilities = tf.nn.log_softmax(act_presoftmax, -1)\n",
    "act_presoftmax_flat = tf.reshape(act_presoftmax, [-1, 9, num_act])\n",
    "mask_ph_flat = tf.reshape(mask_ph, [-1, max_actions_per_subprogram])\n",
    "act_ind_flat = tf.reshape(act_ind, [-1, max_actions_per_subprogram])"
   ]
  },
  {
   "cell_type": "code",
   "execution_count": null,
   "metadata": {
    "collapsed": true
   },
   "outputs": [],
   "source": [
    "act_presoftmax_flat = tf.reshape(act_presoftmax, [-1, 9, num_act])"
   ]
  },
  {
   "cell_type": "code",
   "execution_count": null,
   "metadata": {},
   "outputs": [],
   "source": [
    "max_actions_per_subprogram"
   ]
  },
  {
   "cell_type": "code",
   "execution_count": null,
   "metadata": {
    "scrolled": true
   },
   "outputs": [],
   "source": [
    "sess.run(act_presoftmax, feed_dict).shape"
   ]
  },
  {
   "cell_type": "code",
   "execution_count": null,
   "metadata": {},
   "outputs": [],
   "source": [
    "action_map"
   ]
  },
  {
   "cell_type": "code",
   "execution_count": null,
   "metadata": {
    "scrolled": false
   },
   "outputs": [],
   "source": [
    "print(*actions_ind[2])"
   ]
  },
  {
   "cell_type": "code",
   "execution_count": null,
   "metadata": {},
   "outputs": [],
   "source": [
    "command_map"
   ]
  },
  {
   "cell_type": "code",
   "execution_count": null,
   "metadata": {},
   "outputs": [],
   "source": [
    "action_map"
   ]
  },
  {
   "cell_type": "code",
   "execution_count": null,
   "metadata": {
    "scrolled": true
   },
   "outputs": [],
   "source": [
    "subprogram_output"
   ]
  },
  {
   "cell_type": "code",
   "execution_count": null,
   "metadata": {},
   "outputs": [],
   "source": [
    "subprogram_last_layer[:,cmd_lengths,:]"
   ]
  },
  {
   "cell_type": "code",
   "execution_count": null,
   "metadata": {},
   "outputs": [],
   "source": [
    "encoding_last_layer"
   ]
  },
  {
   "cell_type": "code",
   "execution_count": null,
   "metadata": {},
   "outputs": [],
   "source": [
    "tf.gather(\n",
    "    encoding_last_layer,\n",
    "    [1,2],\n",
    "    axis=1\n",
    ")"
   ]
  },
  {
   "cell_type": "code",
   "execution_count": null,
   "metadata": {
    "collapsed": true
   },
   "outputs": [],
   "source": [
    "tf.gather_nd(\n",
    "    encoding_last_layer,\n",
    "    np.array([[0,1,2,3,4], [1,4,3,2,5]]).T,\n",
    "    name=None\n",
    ")"
   ]
  },
  {
   "cell_type": "code",
   "execution_count": null,
   "metadata": {
    "collapsed": true
   },
   "outputs": [],
   "source": [
    "cmd_lengths"
   ]
  },
  {
   "cell_type": "code",
   "execution_count": null,
   "metadata": {
    "collapsed": true
   },
   "outputs": [],
   "source": [
    "def generate_command(sub_cmd, num_repeat):\n",
    "    return sub_cmd * num_repeat"
   ]
  },
  {
   "cell_type": "code",
   "execution_count": null,
   "metadata": {
    "collapsed": true
   },
   "outputs": [],
   "source": [
    "def process_command(cmd):\n",
    "    "
   ]
  },
  {
   "cell_type": "code",
   "execution_count": null,
   "metadata": {
    "collapsed": true
   },
   "outputs": [],
   "source": [
    "uni_commands"
   ]
  },
  {
   "cell_type": "code",
   "execution_count": null,
   "metadata": {
    "collapsed": true
   },
   "outputs": [],
   "source": [
    "uni_actions"
   ]
  },
  {
   "cell_type": "code",
   "execution_count": null,
   "metadata": {
    "collapsed": true
   },
   "outputs": [],
   "source": [
    "uni_tokens"
   ]
  },
  {
   "cell_type": "code",
   "execution_count": null,
   "metadata": {
    "collapsed": true
   },
   "outputs": [],
   "source": [
    "df.shape"
   ]
  },
  {
   "cell_type": "code",
   "execution_count": null,
   "metadata": {
    "collapsed": true
   },
   "outputs": [],
   "source": []
  },
  {
   "cell_type": "code",
   "execution_count": null,
   "metadata": {
    "collapsed": true
   },
   "outputs": [],
   "source": []
  }
 ],
 "metadata": {
  "kernelspec": {
   "display_name": "Python 3",
   "language": "python",
   "name": "python3"
  },
  "language_info": {
   "codemirror_mode": {
    "name": "ipython",
    "version": 3
   },
   "file_extension": ".py",
   "mimetype": "text/x-python",
   "name": "python",
   "nbconvert_exporter": "python",
   "pygments_lexer": "ipython3",
   "version": "3.6.4"
  }
 },
 "nbformat": 4,
 "nbformat_minor": 2
}
