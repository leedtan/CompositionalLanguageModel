{
 "cells": [
  {
   "cell_type": "code",
   "execution_count": 1,
   "metadata": {},
   "outputs": [
    {
     "name": "stderr",
     "output_type": "stream",
     "text": [
      "/home/lee/anaconda3/lib/python3.6/site-packages/h5py/__init__.py:36: FutureWarning: Conversion of the second argument of issubdtype from `float` to `np.floating` is deprecated. In future, it will be treated as `np.float64 == np.dtype(float).type`.\n",
      "  from ._conv import register_converters as _register_converters\n"
     ]
    }
   ],
   "source": [
    "\n",
    "# Import common dependencies\n",
    "import pandas as pd  # noqa\n",
    "import numpy as np\n",
    "import matplotlib  # noqa\n",
    "import matplotlib.pyplot as plt\n",
    "import datetime  # noqa\n",
    "import PIL  # noqa\n",
    "import glob  # noqa\n",
    "import pickle  # noqa\n",
    "from pathlib import Path  # noqa\n",
    "from scipy import misc  # noqa\n",
    "import sys\n",
    "import tensorflow as tf\n",
    "import pdb\n",
    "TRADE_COST_FRAC = .003\n",
    "EPSILON = 1e-10\n",
    "ADV_MULT = 1e-3"
   ]
  },
  {
   "cell_type": "code",
   "execution_count": 2,
   "metadata": {
    "collapsed": true,
    "scrolled": true
   },
   "outputs": [],
   "source": [
    "uni_tokens = set()\n",
    "uni_commands = set()\n",
    "uni_actions = set()\n",
    "fname = 'tasks_with_length_tags.txt'\n",
    "with open(fname) as f:\n",
    "    content = f.readlines()\n",
    "content2 = [c.split(' ') for c in content]\n",
    "# you may also want to remove whitespace characters like `\\n` at the end of each line\n",
    "commands = []\n",
    "actions = []\n",
    "content = [l.replace('\\n', '') for l in content]\n",
    "commands = [x.split(':::')[1].split(' ')[1:-1] for x in content]\n",
    "actions = [x.split(':::')[2].split(' ')[1:-2] for x in content]\n",
    "structures = [x.split(':::')[3].split(' ')[2:] for x in content]\n",
    "\n",
    "structures = [[int(l) for l in program] for program in structures]\n",
    "#actions = [[wd.replace('\\n', '') for wd in res] for res in actions]"
   ]
  },
  {
   "cell_type": "code",
   "execution_count": 3,
   "metadata": {},
   "outputs": [
    {
     "data": {
      "text/plain": [
       "(7, 10, 49, 9)"
      ]
     },
     "execution_count": 3,
     "metadata": {},
     "output_type": "execute_result"
    }
   ],
   "source": [
    "max_actions_per_subprogram = max([max([s for s in struct]) for struct in structures]) + 1\n",
    "max_num_subprograms = max([len(s) for s in structures]) + 1\n",
    "max_cmd_len = max([len(s) for s in commands]) + 1\n",
    "max_act_len = max([len(a) for a in actions]) + 1\n",
    "cmd_lengths_list = [len(s)+1 for s in commands]\n",
    "cmd_lengths_np = np.array(cmd_lengths_list)\n",
    "max_num_subprograms, max_cmd_len, max_act_len, max_actions_per_subprogram\n"
   ]
  },
  {
   "cell_type": "code",
   "execution_count": 4,
   "metadata": {
    "collapsed": true
   },
   "outputs": [],
   "source": [
    "def build_fmap_invmap(unique, num_unique):\n",
    "    fmap = dict(zip(unique, range(num_unique)))\n",
    "    invmap = dict(zip(range(num_unique), unique))\n",
    "    return fmap, invmap\n"
   ]
  },
  {
   "cell_type": "code",
   "execution_count": 5,
   "metadata": {
    "collapsed": true
   },
   "outputs": [],
   "source": [
    "for li in content2:\n",
    "    for wd in li:\n",
    "        uni_tokens.add(wd)\n",
    "for li in commands:\n",
    "    for wd in li:\n",
    "        uni_commands.add(wd)\n",
    "for li in actions:\n",
    "    for wd in li:\n",
    "        uni_actions.add(wd)\n",
    "uni_commands.add('end_command')\n",
    "uni_actions.add('end_subprogram')\n",
    "uni_actions.add('end_action')\n",
    "num_cmd = len(uni_commands)\n",
    "num_act = len(uni_actions)\n",
    "command_map, command_invmap = build_fmap_invmap(uni_commands, num_cmd)\n",
    "action_map, action_invmap = build_fmap_invmap(uni_actions, num_act)"
   ]
  },
  {
   "cell_type": "code",
   "execution_count": 6,
   "metadata": {
    "collapsed": true
   },
   "outputs": [],
   "source": [
    "\n",
    "\n",
    "def dense_scaled(prev_layer, layer_size, name=None, reuse=False, scale=1.0):\n",
    "    output = tf.layers.dense(prev_layer, layer_size, reuse=reuse) * scale\n",
    "    return output\n",
    "\n",
    "\n",
    "def dense_relu(dense_input, layer_size, scale=1.0):\n",
    "    dense = dense_scaled(dense_input, layer_size, scale=scale)\n",
    "    output = tf.nn.leaky_relu(dense)\n",
    "\n",
    "    return output\n",
    "\n",
    "def get_grad_norm(opt_fcn, loss):\n",
    "    gvs = opt_fcn.compute_gradients(loss)\n",
    "    grad_norm = tf.sqrt(tf.reduce_sum(\n",
    "        [tf.reduce_sum(tf.square(grad)) for grad, var in gvs if grad is not None]))\n",
    "    return grad_norm\n",
    "\n",
    "\n",
    "def apply_clipped_optimizer(opt_fcn, loss, clip_norm=.1, clip_single=.03, clip_global_norm=False):\n",
    "    gvs = opt_fcn.compute_gradients(loss)\n",
    "\n",
    "    if clip_global_norm:\n",
    "        gs, vs = zip(*[(g, v) for g, v in gvs if g is not None])\n",
    "        capped_gs, grad_norm_total = tf.clip_by_global_norm([g for g in gs], clip_norm)\n",
    "        capped_gvs = list(zip(capped_gs, vs))\n",
    "    else:\n",
    "        grad_norm_total = tf.sqrt(\n",
    "            tf.reduce_sum([tf.reduce_sum(tf.square(grad)) for grad, var in gvs if grad is not None]))\n",
    "        capped_gvs = [(tf.clip_by_value(grad, -1 * clip_single, clip_single), var)\n",
    "                      for grad, var in gvs if grad is not None]\n",
    "        capped_gvs = [(tf.clip_by_norm(grad, clip_norm), var) for grad, var in capped_gvs if grad is not None]\n",
    "\n",
    "    optimizer = opt_fcn.apply_gradients(capped_gvs)\n",
    "\n",
    "    return optimizer, grad_norm_total\n",
    "\n",
    "\n",
    "def mlp(x, hidden_sizes, output_size=None, name='', reuse=False):\n",
    "    prev_layer = x\n",
    "\n",
    "    for idx, l in enumerate(hidden_sizes):\n",
    "        dense = dense_scaled(prev_layer, l, name='mlp' + name + '_' + str(idx))\n",
    "        prev_layer = tf.nn.leaky_relu(dense)\n",
    "\n",
    "    output = prev_layer\n",
    "\n",
    "    if output_size is not None:\n",
    "        output = dense_scaled(prev_layer, output_size, name='mlp' + name + 'final')\n",
    "\n",
    "    return output\n",
    "\n",
    "def mlp_with_adversaries(x, hidden_sizes, output_size=None, name='', reuse=False):\n",
    "    prev_layer = x\n",
    "    adv_phs = []\n",
    "    for idx, l in enumerate(hidden_sizes):\n",
    "        \n",
    "        adversary = tf.placeholder_with_default(tf.zeros_like(prev_layer), prev_layer.shape)\n",
    "        prev_layer = prev_layer + adversary\n",
    "        adv_phs.append(adversary)\n",
    "        \n",
    "        dense = dense_scaled(prev_layer, l, name='mlp' + name + '_' + str(idx))\n",
    "        prev_layer = tf.nn.leaky_relu(dense)\n",
    "\n",
    "    output = prev_layer\n",
    "\n",
    "    if output_size is not None:\n",
    "        output = dense_scaled(prev_layer, output_size, name='mlp' + name + 'final')\n",
    "\n",
    "    return output, adv_phs\n",
    "\n"
   ]
  },
  {
   "cell_type": "code",
   "execution_count": 7,
   "metadata": {
    "collapsed": true
   },
   "outputs": [],
   "source": [
    "\n",
    "commands_ind = [[command_map[c] for c in cmd] + [0] * (max_cmd_len - len(cmd)) for cmd in commands]\n",
    "actions_ind = [[action_map[a] for a in act] + [0] * (max_act_len - len(act)) for act in actions]\n",
    "cmd_np = np.array(commands_ind)\n",
    "actions_structured = []\n",
    "mask_structured = []\n",
    "for row in range(len(structures)):\n",
    "    mask_row = []\n",
    "    action_row = []\n",
    "    act = actions_ind[row]\n",
    "    struct = structures[row]\n",
    "    start = 0\n",
    "    for step in struct:\n",
    "        end = start + step\n",
    "        a = act[start:end]\n",
    "        padding = max_actions_per_subprogram - step - 1\n",
    "        action_row.append(a + [action_map['end_action']] + [0] * padding)\n",
    "        start = end\n",
    "    actions_structured.append(\n",
    "        action_row + [[action_map['end_subprogram']] + [0] * (max_actions_per_subprogram - 1)] +\n",
    "        [[0] * max_actions_per_subprogram] * (max_num_subprograms - len(struct) - 1)\n",
    "    )\n",
    "act_np = np.array(actions_structured)\n",
    "struct_padded = [[sa + 1 for sa in s] + [1] + [0] * (max_num_subprograms - len(s) - 1) for s in structures]\n",
    "struct_np = np.array(struct_padded)\n",
    "\n",
    "mask_list = [[np.concatenate((np.ones(st), np.zeros(max_actions_per_subprogram - st)), 0) \n",
    "              for st in s] for s in struct_np]\n",
    "mask_np = np.array(mask_list)"
   ]
  },
  {
   "cell_type": "code",
   "execution_count": 8,
   "metadata": {
    "scrolled": false
   },
   "outputs": [
    {
     "name": "stdout",
     "output_type": "stream",
     "text": [
      "0\n",
      "1\n",
      "2\n",
      "0\n",
      "1\n",
      "2\n",
      "0\n",
      "1\n",
      "2\n",
      "0\n",
      "1\n",
      "2\n",
      "0\n",
      "1\n",
      "2\n",
      "0\n",
      "1\n",
      "2\n",
      "0\n",
      "1\n",
      "2\n",
      "WARNING:tensorflow:From /home/lee/.local/lib/python3.6/site-packages/tensorflow/python/ops/clip_ops.py:110: calling reduce_sum (from tensorflow.python.ops.math_ops) with keep_dims is deprecated and will be removed in a future version.\n",
      "Instructions for updating:\n",
      "keep_dims is deprecated, use keepdims instead\n"
     ]
    }
   ],
   "source": [
    "tf.reset_default_graph()\n",
    "default_sizes = 128\n",
    "size_emb = 64\n",
    "num_layers_encoder = 6\n",
    "hidden_filters = 128\n",
    "num_layers_subprogram = 3\n",
    "hidden_filters_subprogram = default_sizes\n",
    "cmd_mat = tf.Variable(1e-5*tf.random_normal([num_cmd, size_emb]))\n",
    "act_mat = tf.Variable(1e-5*tf.random_normal([num_act, size_emb]))\n",
    "global_bs = None\n",
    "global_time_len = 7\n",
    "action_lengths = None\n",
    "max_num_actions= None\n",
    "# global_bs = 8\n",
    "global_time_len = 7\n",
    "max_num_actions = 9\n",
    "cmd_ind = tf.placeholder(tf.int32, shape=(global_bs, 10,))\n",
    "act_ind = tf.placeholder(tf.int32, shape=(global_bs, global_time_len, 9))\n",
    "mask_ph = tf.placeholder(tf.float32, shape=(global_bs, global_time_len, 9))\n",
    "cmd_lengths = tf.placeholder(tf.int32, shape=(global_bs,))\n",
    "act_lengths = tf.placeholder(tf.int32, shape=(global_bs, 7))\n",
    "learning_rate = tf.placeholder(tf.float32, shape = (None))\n",
    "\n",
    "cmd_emb = tf.nn.embedding_lookup(cmd_mat, cmd_ind)\n",
    "act_emb = tf.nn.embedding_lookup(act_mat, act_ind)\n",
    "act_st_emb = tf.Variable(1e-5*tf.random_normal([size_emb]))\n",
    "tf_bs = tf.shape(act_ind)[0]\n",
    "act_st_emb_expanded = tf.tile(tf.reshape(\n",
    "    act_st_emb, [1, 1, 1, size_emb]), [tf_bs, global_time_len, 1, 1])\n",
    "act_emb_with_st = tf.concat((act_st_emb_expanded, act_emb), 2)\n",
    "\n",
    "first_cell_encoder = [tf.nn.rnn_cell.LSTMCell(\n",
    "    hidden_filters, forget_bias=1., name = 'layer1_'+d) for d in ['f', 'b']]\n",
    "hidden_cells_encoder = [[tf.nn.rnn_cell.LSTMCell(\n",
    "    hidden_filters,forget_bias=1., name = 'layer' + str(lidx) + '_' + d)  for d in ['f', 'b']]\n",
    "                        for lidx in range(num_layers_encoder - 1)]\n",
    "cells_encoder = [first_cell_encoder] + hidden_cells_encoder\n",
    "c1, c2 = zip(*cells_encoder)\n",
    "cells_encoder = [c1, c2]\n",
    "def encode(x, num_layers, cells, initial_states, lengths, name='',):\n",
    "    prev_layer = x\n",
    "    shortcut = x\n",
    "    hiddenlayers = []\n",
    "    returncells = []\n",
    "    cell_fw, cell_bw = cells\n",
    "    bs = tf.shape(x)[0]\n",
    "    for idx in range(num_layers):\n",
    "        prev_layer, c = tf.nn.bidirectional_dynamic_rnn(\n",
    "                cell_fw = cell_fw[idx],\n",
    "                cell_bw = cell_bw[idx],\n",
    "                inputs = prev_layer,\n",
    "                sequence_length=lengths,\n",
    "                initial_state_fw=None,\n",
    "                initial_state_bw=None,\n",
    "                dtype=tf.float32,\n",
    "                scope='encoder'+str(idx)\n",
    "            )\n",
    "        prev_layer = tf.concat(prev_layer, 2)\n",
    "        prev_layer = tf.nn.leaky_relu(prev_layer)\n",
    "        returncells.append(c)\n",
    "        hiddenlayers.append(prev_layer)\n",
    "        if idx == num_layers - 1:\n",
    "            #pdb.set_trace()\n",
    "            output = tf.gather_nd(\n",
    "                        prev_layer,\n",
    "                        tf.stack([tf.range(bs), lengths], 1),\n",
    "                        name=None\n",
    "                    )\n",
    "            return prev_layer, returncells, hiddenlayers, output\n",
    "        prev_layer = tf.concat((prev_layer, shortcut), 2)\n",
    "encoding_last_layer, encoding_final_cells, encoding_hidden_layers, encoding_last_timestep = encode(\n",
    "    cmd_emb, num_layers_encoder, cells_encoder,None, lengths = cmd_lengths, name = 'encoder')\n",
    "# encoding_last_timestep = encoding_last_layer[:,cmd_lengths, :]\n",
    "hidden_filters_encoder = encoding_last_timestep.shape[-1].value\n",
    "first_cell_subprogram = tf.nn.rnn_cell.LSTMCell(\n",
    "    hidden_filters_subprogram, forget_bias=1., name = 'subpogramlayer1_')\n",
    "hidden_cells_subprogram = [tf.nn.rnn_cell.LSTMCell(\n",
    "    hidden_filters_subprogram,forget_bias=1., name = 'subpogramlayer' + str(lidx))\n",
    "                        for lidx in range(num_layers_subprogram - 1)]\n",
    "\n",
    "cells_subprogram_rnn = [first_cell_subprogram] + hidden_cells_subprogram\n",
    "\n",
    "attention_mechanism = tf.contrib.seq2seq.BahdanauAttention(\n",
    "    num_units=hidden_filters_encoder, memory=encoding_last_layer,\n",
    "    memory_sequence_length=cmd_lengths)\n",
    "attention_mechanism = tf.contrib.seq2seq.LuongAttention(\n",
    "    num_units=hidden_filters_encoder//2, memory=encoding_last_layer,\n",
    "    memory_sequence_length=cmd_lengths)\n",
    "cells_subprogram = [\n",
    "    tf.contrib.seq2seq.AttentionWrapper(\n",
    "        cell, attention_mechanism, attention_layer_size = hidden_filters_subprogram) \n",
    "    for cell in cells_subprogram_rnn]\n",
    "\n",
    "def subprogram(x, num_layers, cells, initial_states, lengths, reuse, name='',):\n",
    "    prev_layer = x\n",
    "    shortcut = x\n",
    "    hiddenlayers = []\n",
    "    returncells = []\n",
    "    bs = tf.shape(x)[0]\n",
    "    for idx in range(num_layers):\n",
    "        print(idx)\n",
    "        if idx == 0:\n",
    "            num_past_units = hidden_filters\n",
    "        else:\n",
    "            num_past_units = hidden_filters_subprogram\n",
    "        with tf.variable_scope(name + 'subprogram' + str(idx), reuse=reuse):\n",
    "            self_attention_mechanism = tf.contrib.seq2seq.LuongAttention(\n",
    "                num_units=num_past_units, memory=prev_layer,\n",
    "                memory_sequence_length=lengths)\n",
    "            cell_with_selfattention = tf.contrib.seq2seq.AttentionWrapper(\n",
    "                    cells[idx], self_attention_mechanism, attention_layer_size = num_past_units)\n",
    "\n",
    "            prev_layer, c = tf.nn.dynamic_rnn(\n",
    "                    cell = cell_with_selfattention,\n",
    "                    inputs = prev_layer,\n",
    "                    sequence_length=lengths,\n",
    "                    initial_state = None,\n",
    "                    dtype=tf.float32,\n",
    "                )\n",
    "            prev_layer = tf.concat(prev_layer, 2)\n",
    "            prev_layer = tf.nn.leaky_relu(prev_layer)\n",
    "            returncells.append(c)\n",
    "            hiddenlayers.append(prev_layer)\n",
    "            if idx == num_layers - 1:\n",
    "                output = tf.gather_nd(\n",
    "                            prev_layer,\n",
    "                            tf.stack([tf.range(bs), lengths], 1),\n",
    "                            name=None\n",
    "                        )\n",
    "                return prev_layer, returncells, hiddenlayers, output\n",
    "            prev_layer = tf.concat((prev_layer, shortcut), 2)\n",
    "encodings = [encoding_last_timestep]\n",
    "last_encoding = encoding_last_timestep\n",
    "initial_cmb_encoding = last_encoding\n",
    "loss = 0\n",
    "action_probabilities_presoftmax = []\n",
    "for sub_idx in range(max_num_subprograms): \n",
    "    from_last_layer = tf.tile(tf.expand_dims(tf.concat((\n",
    "        last_encoding, initial_cmb_encoding), 1), 1), [1, max_num_actions + 1, 1])\n",
    "    autoregressive = act_emb_with_st[:,sub_idx, :, :]\n",
    "    x_input = tf.concat((from_last_layer, autoregressive), -1)\n",
    "    subprogram_last_layer, _, subprogram_hidden_layers, subprogram_output = subprogram(\n",
    "        x_input, num_layers_subprogram, cells_subprogram,None, \n",
    "        lengths = act_lengths[:, sub_idx], reuse = (sub_idx > 0), name = 'subprogram')\n",
    "    action_prob_flat = mlp(\n",
    "        tf.reshape(subprogram_last_layer, [-1, hidden_filters_subprogram]),\n",
    "        [], output_size = num_act, name = 'action_choice_mlp', reuse = (sub_idx > 0))\n",
    "    action_prob_expanded = tf.reshape(action_prob_flat, [-1, max_num_actions + 1, num_act])\n",
    "    action_probabilities_layer = tf.nn.softmax(action_prob_expanded, axis=-1)\n",
    "    action_probabilities_presoftmax.append(action_prob_expanded)\n",
    "    delta = mlp(\n",
    "        subprogram_output, [64], output_size = hidden_filters_encoder, name = 'global_transform',\n",
    "        reuse = (sub_idx > 0)\n",
    "    )\n",
    "    last_encoding = last_encoding + delta\n",
    "    encodings.append(last_encoding)\n",
    "act_presoftmax = tf.stack(action_probabilities_presoftmax, 1)[:, :, :-1, :]\n",
    "#batch, subprogram, timestep, action_selection\n",
    "logprobabilities = tf.nn.log_softmax(act_presoftmax, -1)\n",
    "act_presoftmax_flat = tf.reshape(act_presoftmax, [-1, 9, num_act])\n",
    "mask_ph_flat = tf.reshape(mask_ph, [-1, max_actions_per_subprogram])\n",
    "act_ind_flat = tf.reshape(act_ind, [-1, max_actions_per_subprogram])\n",
    "ppl_loss = tf.contrib.seq2seq.sequence_loss(\n",
    "    logits = act_presoftmax_flat,\n",
    "    targets = act_ind_flat,\n",
    "    weights = mask_ph_flat,\n",
    "    average_across_timesteps=False,\n",
    "    average_across_batch=False,\n",
    "    softmax_loss_function=None,\n",
    "    name=None\n",
    ")\n",
    "ppl_loss_avg = tf.reduce_mean(tf.pow(ppl_loss, 1.5)) * 100\n",
    "\n",
    "tfvars = tf.trainable_variables()\n",
    "weight_norm = tf.reduce_mean([tf.reduce_sum(tf.square(var)) for var in tfvars])*1e-4\n",
    "\n",
    "action_taken = tf.argmax(act_presoftmax, -1, output_type=tf.int32)\n",
    "correct_mat = tf.cast(tf.equal(action_taken, act_ind), tf.float32) * mask_ph\n",
    "correct_percent = tf.reduce_sum(correct_mat, [1, 2])/tf.reduce_sum(mask_ph, [1, 2])\n",
    "percent_correct = tf.reduce_mean(correct_percent)\n",
    "percent_fully_correct = tf.reduce_mean(tf.cast(tf.equal(correct_percent, 1), tf.float32))\n",
    "\n",
    "loss = ppl_loss_avg + weight_norm\n",
    "\n",
    "opt_fcn = tf.train.AdamOptimizer(learning_rate=learning_rate)\n",
    "optimizer, grad_norm_total = apply_clipped_optimizer(opt_fcn, loss)\n",
    "sess = tf.Session()\n",
    "sess.run(tf.global_variables_initializer())"
   ]
  },
  {
   "cell_type": "code",
   "execution_count": 9,
   "metadata": {},
   "outputs": [
    {
     "data": {
      "text/plain": [
       "128"
      ]
     },
     "execution_count": 9,
     "metadata": {},
     "output_type": "execute_result"
    }
   ],
   "source": [
    "hidden_filters"
   ]
  },
  {
   "cell_type": "code",
   "execution_count": 10,
   "metadata": {
    "scrolled": true
   },
   "outputs": [
    {
     "data": {
      "text/plain": [
       "<tf.Tensor 'LeakyRelu_5/Maximum:0' shape=(?, 10, 256) dtype=float32>"
      ]
     },
     "execution_count": 10,
     "metadata": {},
     "output_type": "execute_result"
    }
   ],
   "source": [
    "encoding_last_layer"
   ]
  },
  {
   "cell_type": "code",
   "execution_count": null,
   "metadata": {},
   "outputs": [
    {
     "data": {
      "text/plain": [
       "((210,), (20700,))"
      ]
     },
     "execution_count": 11,
     "metadata": {},
     "output_type": "execute_result"
    }
   ],
   "source": [
    "np.random.seed(0)\n",
    "trn_percent = .01\n",
    "num_samples = mask_np.shape[0]\n",
    "ordered_samples = np.arange(num_samples)\n",
    "np.random.shuffle(ordered_samples)\n",
    "trn_samples = ordered_samples[:int(np.ceil(num_samples*trn_percent))]\n",
    "val_samples_all = ordered_samples[int(np.ceil(num_samples*trn_percent)):]\n",
    "val_samples = val_samples_all\n",
    "trn_samples.shape, val_samples.shape"
   ]
  },
  {
   "cell_type": "code",
   "execution_count": null,
   "metadata": {
    "scrolled": false
   },
   "outputs": [
    {
     "name": "stdout",
     "output_type": "stream",
     "text": [
      "itr: 10 trn_loss 84.21168198182679 val_loss 72.29515\n",
      "itr: 10 trn_acc 0.0 trn_single_acc 0.30488422728079634 val_acc 0.00019323672\n",
      "itr: 20 trn_loss 69.84518548054746 val_loss 72.44324035644532\n",
      "itr: 20 trn_acc 0.00296875 trn_single_acc 0.47077406297495716 val_acc 0.0007342995231738314\n",
      "itr: 30 trn_loss 62.23725150224762 val_loss 70.30209663391115\n",
      "itr: 30 trn_acc 0.004811755400296876 trn_single_acc 0.5632231207955587 val_acc 0.0015159420654526912\n",
      "itr: 40 trn_loss 49.571065249301846 val_loss 67.51903968048097\n",
      "itr: 40 trn_acc 0.020085029460868268 trn_single_acc 0.644019690038728 val_acc 0.003803961312951287\n",
      "itr: 50 trn_loss 38.393882545448 val_loss 63.6418862312317\n",
      "itr: 50 trn_acc 0.0593563367714656 trn_single_acc 0.714339799957632 val_acc 0.011761729719801224\n",
      "itr: 60 trn_loss 25.861273272623695 val_loss 59.09473557197572\n",
      "itr: 60 trn_acc 0.13073019679364994 trn_single_acc 0.8118644590523096 val_acc 0.03103000056972815\n",
      "itr: 70 trn_loss 23.66560897625207 val_loss 57.91995401612092\n",
      "itr: 70 trn_acc 0.20090954483260093 trn_single_acc 0.8527250604701652 val_acc 0.0354100924631719\n",
      "itr: 80 trn_loss 18.571472108992456 val_loss 53.1985600778267\n",
      "itr: 80 trn_acc 0.3415048228387449 trn_single_acc 0.8933299433677481 val_acc 0.08719275551147142\n",
      "itr: 90 trn_loss 11.566624644120939 val_loss 48.60855202574776\n",
      "itr: 90 trn_acc 0.5513731642796655 trn_single_acc 0.9429936007127937 val_acc 0.13841067693031023\n",
      "itr: 100 trn_loss 13.918597393609769 val_loss 48.60578855901283\n",
      "itr: 100 trn_acc 0.6109742066621601 trn_single_acc 0.9532179420950482 val_acc 0.14158893324192934\n",
      "itr: 110 trn_loss 11.852406127799208 val_loss 44.181173000001806\n",
      "itr: 110 trn_acc 0.606342687564047 trn_single_acc 0.9527455700315225 val_acc 0.20541554716756857\n",
      "itr: 120 trn_loss 5.389198221833453 val_loss 39.99968182438365\n",
      "itr: 120 trn_acc 0.8302916672705613 trn_single_acc 0.9811144708257822 val_acc 0.2731203677731536\n",
      "itr: 130 trn_loss 3.142838099015026 val_loss 36.16768613511697\n",
      "itr: 130 trn_acc 0.8916963826328652 trn_single_acc 0.9890894707600705 val_acc 0.3384121932814523\n",
      "itr: 140 trn_loss 1.4758414857787678 val_loss 32.656270769724635\n",
      "itr: 140 trn_acc 0.9531213781564277 trn_single_acc 0.9956423241943781 val_acc 0.399870492061675\n",
      "itr: 150 trn_loss 3.9223973164875106 val_loss 29.48706556632166\n",
      "itr: 150 trn_acc 0.9573016788396705 trn_single_acc 0.9949877108023276 val_acc 0.45576266977849644\n",
      "itr: 160 trn_loss 7.68731362226748 val_loss 27.3236831540529\n",
      "itr: 160 trn_acc 0.9262717972329276 trn_single_acc 0.9921727099334854 val_acc 0.46724437356289966\n",
      "itr: 170 trn_loss 5.526601882598163 val_loss 30.331947468042145\n",
      "itr: 170 trn_acc 0.8712915953021759 trn_single_acc 0.9868119292486237 val_acc 0.4772880495813198\n",
      "itr: 180 trn_loss 10.155728617263724 val_loss 27.403949709820544\n",
      "itr: 180 trn_acc 0.7833084091940783 trn_single_acc 0.9759281397362952 val_acc 0.526143785228733\n",
      "itr: 190 trn_loss 3.862512571485636 val_loss 25.246069787819206\n",
      "itr: 190 trn_acc 0.9090996296975038 trn_single_acc 0.9902329378980573 val_acc 0.5633796476516757\n",
      "itr: 200 trn_loss 3.468639096706541 val_loss 22.82193196911724\n",
      "itr: 200 trn_acc 0.9043167976127883 trn_single_acc 0.9915204088220446 val_acc 0.5998097976917298\n",
      "itr: 210 trn_loss 1.2504081180893458 val_loss 20.635333214096235\n",
      "itr: 210 trn_acc 0.966031985733792 trn_single_acc 0.9970255453966426 val_acc 0.6345196414775496\n",
      "itr: 220 trn_loss 0.48948571669771535 val_loss 18.659754497312314\n",
      "itr: 220 trn_acc 0.9847388982723642 trn_single_acc 0.9987965905139304 val_acc 0.6681498034703892\n",
      "itr: 230 trn_loss 0.18624221222164825 val_loss 16.88507520780218\n",
      "itr: 230 trn_acc 0.9937561422304004 trn_single_acc 0.9994650669794709 val_acc 0.6983879635251905\n",
      "itr: 240 trn_loss 2.2471396608510332 val_loss 15.291949829088919\n",
      "itr: 240 trn_acc 0.9957725889126898 trn_single_acc 0.9990958702317118 val_acc 0.7258341934845459\n",
      "itr: 250 trn_loss 0.7905688548249679 val_loss 13.855240494573657\n",
      "itr: 250 trn_acc 0.9985259928964151 trn_single_acc 0.9996847494427452 val_acc 0.7508691334634077\n",
      "itr: 260 trn_loss 0.28228027903532044 val_loss 12.558055857328664\n",
      "itr: 260 trn_acc 0.9994860455024257 trn_single_acc 0.9998900789274557 val_acc 0.7732604787268387\n",
      "itr: 270 trn_loss 0.10484844787927373 val_loss 11.394103890217625\n",
      "itr: 270 trn_acc 0.9998207951475033 trn_single_acc 0.9999616728918912 val_acc 0.7935286324189437\n",
      "itr: 280 trn_loss 0.04285096461377292 val_loss 10.349251001081422\n",
      "itr: 280 trn_acc 0.999937515131573 trn_single_acc 0.999986636163731 val_acc 0.8117651427656113\n",
      "itr: 290 trn_loss 0.02120011949864486 val_loss 9.408685108126601\n",
      "itr: 290 trn_acc 0.999978212873547 trn_single_acc 0.9999953403184159 val_acc 0.828192491966757\n",
      "itr: 300 trn_loss 0.013495273916880282 val_loss 8.562315917105735\n",
      "itr: 300 trn_acc 0.9999924032987341 trn_single_acc 0.9999983752694938 val_acc 0.8429674443348701\n",
      "itr: 310 trn_loss 0.010770117525873755 val_loss 7.801269211850698\n",
      "itr: 310 trn_acc 0.9999973511940526 trn_single_acc 0.9999994334915013 val_acc 0.856264901466172\n",
      "itr: 320 trn_loss 0.009772436540449162 val_loss 7.116267852618219\n",
      "itr: 320 trn_acc 0.9999990764184741 trn_single_acc 0.9999998024707004 val_acc 0.8682084610822807\n",
      "itr: 330 trn_loss 0.00936001499496191 val_loss 6.500025337309172\n",
      "itr: 330 trn_acc 0.9999996779670342 trn_single_acc 0.999999931125792 val_acc 0.8788079021063158\n",
      "itr: 340 trn_loss 0.009175469727400106 val_loss 5.945754419598457\n",
      "itr: 340 trn_acc 0.9999998877140478 trn_single_acc 0.9999999759850484 val_acc 0.8885647950488367\n",
      "itr: 350 trn_loss 0.009058728553925841 val_loss 5.448034284263978\n",
      "itr: 350 trn_acc 0.9999999608483092 trn_single_acc 0.9999999916265041 val_acc 0.8973894743250047\n",
      "itr: 360 trn_loss 0.009006397207039404 val_loss 5.001876703873394\n",
      "itr: 360 trn_acc 0.9999999863486494 trn_single_acc 0.9999999970803426 val_acc 0.9053123618477197\n",
      "itr: 370 trn_loss 0.00893365767976311 val_loss 4.601267354466127\n",
      "itr: 370 trn_acc 0.9999999952400683 trn_single_acc 0.9999999989819784 val_acc 0.912399484990264\n",
      "itr: 380 trn_loss 0.008895119187479487 val_loss 4.240629324416166\n",
      "itr: 380 trn_acc 0.9999999983403144 trn_single_acc 0.9999999996450377 val_acc 0.9187585719927177\n",
      "itr: 390 trn_loss 0.008846588410594448 val_loss 3.9162226996718457\n",
      "itr: 390 trn_acc 0.9999999994213034 trn_single_acc 0.9999999998762322 val_acc 0.9245348878357433\n",
      "itr: 400 trn_loss 0.00880460611174345 val_loss 3.6242826415805767\n",
      "itr: 400 trn_acc 0.9999999997982209 trn_single_acc 0.9999999999568449 val_acc 0.9296562767911217\n",
      "itr: 410 trn_loss 0.008756050611888888 val_loss 3.3611761063672976\n",
      "itr: 410 trn_acc 0.999999999929644 trn_single_acc 0.9999999999849527 val_acc 0.934246203025126\n",
      "itr: 420 trn_loss 0.008696109791123684 val_loss 3.124231320351768\n",
      "itr: 420 trn_acc 0.9999999999754683 trn_single_acc 0.9999999999947532 val_acc 0.9384206182240935\n",
      "itr: 430 trn_loss 0.008655039102178973 val_loss 2.9115163460943774\n",
      "itr: 430 trn_acc 0.9999999999914463 trn_single_acc 0.9999999999981705 val_acc 0.9422017437052274\n",
      "itr: 440 trn_loss 0.00862396394998268 val_loss 2.720918450555832\n",
      "itr: 440 trn_acc 0.9999999999970175 trn_single_acc 0.999999999999362 val_acc 0.9454501660315582\n",
      "itr: 450 trn_loss 0.00857615669941159 val_loss 2.5497146551027576\n",
      "itr: 450 trn_acc 0.99999999999896 trn_single_acc 0.9999999999997774 val_acc 0.9484172277136196\n",
      "itr: 460 trn_loss 0.00854389013509595 val_loss 2.3951982710553423\n",
      "itr: 460 trn_acc 0.9999999999996374 trn_single_acc 0.9999999999999223 val_acc 0.9512083541587188\n",
      "itr: 470 trn_loss 0.008522476865233601 val_loss 2.256384580176462\n",
      "itr: 470 trn_acc 0.9999999999998735 trn_single_acc 0.9999999999999728 val_acc 0.9537252018959994\n",
      "itr: 480 trn_loss 0.008480153629355272 val_loss 2.1317175109756494\n",
      "itr: 480 trn_acc 0.9999999999999558 trn_single_acc 0.9999999999999905 val_acc 0.9559372213582702\n",
      "itr: 490 trn_loss 0.008446721710253884 val_loss 2.02005138512604\n",
      "itr: 490 trn_acc 0.9999999999999845 trn_single_acc 0.9999999999999967 val_acc 0.9577782822043158\n",
      "itr: 500 trn_loss 0.008414025543500946 val_loss 1.9197444187058736\n",
      "itr: 500 trn_acc 0.9999999999999944 trn_single_acc 0.9999999999999988 val_acc 0.9594014172903113\n",
      "itr: 510 trn_loss 0.008379390997442155 val_loss 1.8289161026287433\n",
      "itr: 510 trn_acc 0.999999999999998 trn_single_acc 0.9999999999999994 val_acc 0.9609975056485605\n"
     ]
    },
    {
     "name": "stdout",
     "output_type": "stream",
     "text": [
      "itr: 520 trn_loss 0.008346275084785852 val_loss 1.7469973712988218\n",
      "itr: 520 trn_acc 0.9999999999999993 trn_single_acc 0.9999999999999994 val_acc 0.9624533089968209\n",
      "itr: 530 trn_loss 0.008319693017440405 val_loss 1.6735655203307438\n",
      "itr: 530 trn_acc 0.9999999999999994 trn_single_acc 0.9999999999999994 val_acc 0.9637055605327467\n",
      "itr: 540 trn_loss 0.008290702428936945 val_loss 1.6078807474534005\n",
      "itr: 540 trn_acc 0.9999999999999994 trn_single_acc 0.9999999999999994 val_acc 0.9647069880076093\n",
      "itr: 550 trn_loss 0.008269019573363073 val_loss 1.5486656750464698\n",
      "itr: 550 trn_acc 0.9999999999999994 trn_single_acc 0.9999999999999994 val_acc 0.9656807341016391\n",
      "itr: 560 trn_loss 0.008237194659626391 val_loss 1.4952145032785171\n",
      "itr: 560 trn_acc 0.9999999999999994 trn_single_acc 0.9999999999999994 val_acc 0.9666827104542011\n",
      "itr: 570 trn_loss 0.00820802357264166 val_loss 1.4472784411342592\n",
      "itr: 570 trn_acc 0.9999999999999994 trn_single_acc 0.9999999999999994 val_acc 0.9675458415198345\n",
      "itr: 580 trn_loss 0.008179547801055977 val_loss 1.404515762159078\n",
      "itr: 580 trn_acc 0.9999999999999994 trn_single_acc 0.9999999999999994 val_acc 0.9682115445001143\n",
      "itr: 590 trn_loss 0.008154129395217292 val_loss 1.3663242629428345\n",
      "itr: 590 trn_acc 0.9999999999999994 trn_single_acc 0.9999999999999994 val_acc 0.9687913533565299\n",
      "itr: 600 trn_loss 0.00813099209567243 val_loss 1.3322161768012915\n",
      "itr: 600 trn_acc 0.9999999999999994 trn_single_acc 0.9999999999999994 val_acc 0.9693518289789763\n",
      "itr: 610 trn_loss 0.008107725916770954 val_loss 1.3016728699922866\n",
      "itr: 610 trn_acc 0.9999999999999994 trn_single_acc 0.9999999999999994 val_acc 0.9698562570391781\n",
      "itr: 620 trn_loss 0.008084951604414619 val_loss 1.2746115691113746\n",
      "itr: 620 trn_acc 0.9999999999999994 trn_single_acc 0.9999999999999994 val_acc 0.9702426148633976\n",
      "itr: 630 trn_loss 0.008055071390137603 val_loss 1.2501058250649222\n",
      "itr: 630 trn_acc 0.9999999999999994 trn_single_acc 0.9999999999999994 val_acc 0.9707159358126658\n",
      "itr: 640 trn_loss 0.008035091927261902 val_loss 1.2280492249116404\n",
      "itr: 640 trn_acc 0.9999999999999994 trn_single_acc 0.9999999999999994 val_acc 0.9711998961445156\n",
      "itr: 650 trn_loss 0.00801256533864737 val_loss 1.2082767244862112\n",
      "itr: 650 trn_acc 0.9999999999999994 trn_single_acc 0.9999999999999994 val_acc 0.9715823229023632\n",
      "itr: 660 trn_loss 0.00798579490889428 val_loss 1.190944816769951\n",
      "itr: 660 trn_acc 0.9999999999999994 trn_single_acc 0.9999999999999994 val_acc 0.9718733634831443\n",
      "itr: 670 trn_loss 0.007964877732336922 val_loss 1.17572208592456\n",
      "itr: 670 trn_acc 0.9999999999999994 trn_single_acc 0.9999999999999994 val_acc 0.9720869904412569\n",
      "itr: 680 trn_loss 0.007940476547435162 val_loss 1.161894539140118\n",
      "itr: 680 trn_acc 0.9999999999999994 trn_single_acc 0.9999999999999994 val_acc 0.9722792547035582\n",
      "itr: 690 trn_loss 0.00792299279687697 val_loss 1.1492817811451432\n",
      "itr: 690 trn_acc 0.9999999999999994 trn_single_acc 0.9999999999999994 val_acc 0.9724522925396294\n",
      "itr: 700 trn_loss 0.007906808482736326 val_loss 1.1380603205217787\n",
      "itr: 700 trn_acc 0.9999999999999994 trn_single_acc 0.9999999999999994 val_acc 0.9726804939192114\n",
      "itr: 710 trn_loss 0.007886613250809135 val_loss 1.1280416629660608\n",
      "itr: 710 trn_acc 0.9999999999999994 trn_single_acc 0.9999999999999994 val_acc 0.9728520554853897\n",
      "itr: 720 trn_loss 0.007861184781458579 val_loss 1.1191354139401153\n",
      "itr: 720 trn_acc 0.9999999999999994 trn_single_acc 0.9999999999999994 val_acc 0.9729678132432777\n",
      "itr: 730 trn_loss 0.00785037852814341 val_loss 1.1112167188900979\n",
      "itr: 730 trn_acc 0.9999999999999994 trn_single_acc 0.9999999999999994 val_acc 0.9730575053362321\n",
      "itr: 740 trn_loss 0.007830401809142778 val_loss 1.104026271347249\n",
      "itr: 740 trn_acc 0.9999999999999994 trn_single_acc 0.9999999999999994 val_acc 0.9731527181090359\n",
      "itr: 750 trn_loss 0.0078113415779207055 val_loss 1.0975751818216244\n",
      "itr: 750 trn_acc 0.9999999999999994 trn_single_acc 0.9999999999999994 val_acc 0.9732384096045593\n",
      "itr: 760 trn_loss 0.0077867050653486584 val_loss 1.0920188016590238\n",
      "itr: 760 trn_acc 0.9999999999999994 trn_single_acc 0.9999999999999994 val_acc 0.9733445176892848\n",
      "itr: 770 trn_loss 0.0077692564100979135 val_loss 1.0872124302592958\n",
      "itr: 770 trn_acc 0.9999999999999994 trn_single_acc 0.9999999999999994 val_acc 0.9734062012505565\n",
      "itr: 780 trn_loss 0.00775105434551005 val_loss 1.0829928637928146\n",
      "itr: 780 trn_acc 0.9999999999999994 trn_single_acc 0.9999999999999994 val_acc 0.9734375646536382\n",
      "itr: 790 trn_loss 0.007732296126107758 val_loss 1.0794150639819842\n",
      "itr: 790 trn_acc 0.9999999999999994 trn_single_acc 0.9999999999999994 val_acc 0.9734802816055566\n",
      "itr: 800 trn_loss 0.007719286728086014 val_loss 1.0761564322633512\n",
      "itr: 800 trn_acc 0.9999999999999994 trn_single_acc 0.9999999999999994 val_acc 0.9735332167514279\n",
      "itr: 810 trn_loss 0.0076994710061168365 val_loss 1.0731320513775617\n",
      "itr: 810 trn_acc 0.9999999999999994 trn_single_acc 0.9999999999999994 val_acc 0.9735760304064853\n",
      "itr: 820 trn_loss 0.007682886384872863 val_loss 1.07035707236743\n",
      "itr: 820 trn_acc 0.9999999999999994 trn_single_acc 0.9999999999999994 val_acc 0.9736193906722638\n",
      "itr: 830 trn_loss 0.007669367456508114 val_loss 1.0680248630173448\n",
      "itr: 830 trn_acc 0.9999999999999994 trn_single_acc 0.9999999999999994 val_acc 0.9736294351331747\n",
      "itr: 840 trn_loss 0.0076472266897383056 val_loss 1.0660354994649388\n",
      "itr: 840 trn_acc 0.9999999999999994 trn_single_acc 0.9999999999999994 val_acc 0.9736384751479945\n",
      "itr: 850 trn_loss 0.007631388593028635 val_loss 1.064236453436139\n",
      "itr: 850 trn_acc 0.9999999999999994 trn_single_acc 0.9999999999999994 val_acc 0.9736755909396221\n",
      "itr: 860 trn_loss 0.007615122833937639 val_loss 1.062785289820125\n",
      "itr: 860 trn_acc 0.9999999999999994 trn_single_acc 0.9999999999999994 val_acc 0.9737283189779231\n",
      "itr: 870 trn_loss 0.007601742597511105 val_loss 1.0614866335416648\n",
      "itr: 870 trn_acc 0.9999999999999994 trn_single_acc 0.9999999999999994 val_acc 0.9737564503865578\n",
      "itr: 880 trn_loss 0.00758488645253567 val_loss 1.060316960742308\n",
      "itr: 880 trn_acc 0.9999999999999994 trn_single_acc 0.9999999999999994 val_acc 0.9737527888760392\n",
      "itr: 890 trn_loss 0.007564984760703267 val_loss 1.0592280036779345\n",
      "itr: 890 trn_acc 0.9999999999999994 trn_single_acc 0.9999999999999994 val_acc 0.9737494935165726\n",
      "itr: 900 trn_loss 0.00755151854610373 val_loss 1.0579030579243989\n",
      "itr: 900 trn_acc 0.9999999999999994 trn_single_acc 0.9999999999999994 val_acc 0.9737755074713423\n",
      "itr: 910 trn_loss 0.007535971529443758 val_loss 1.0566112100405893\n",
      "itr: 910 trn_acc 0.9999999999999994 trn_single_acc 0.9999999999999994 val_acc 0.9737989200306352\n",
      "itr: 920 trn_loss 0.007518033814626658 val_loss 1.0553557425132456\n",
      "itr: 920 trn_acc 0.9999999999999994 trn_single_acc 0.9999999999999994 val_acc 0.9738055014448538\n",
      "itr: 930 trn_loss 0.007503957022611832 val_loss 1.0543097689203378\n",
      "itr: 930 trn_acc 0.9999999999999994 trn_single_acc 0.9999999999999994 val_acc 0.9737969348285057\n",
      "itr: 940 trn_loss 0.007487319978824545 val_loss 1.0537912876414022\n",
      "itr: 940 trn_acc 0.9999999999999994 trn_single_acc 0.9999999999999994 val_acc 0.9737892248737924\n",
      "itr: 950 trn_loss 0.007472786374620705 val_loss 1.0535904077595557\n",
      "itr: 950 trn_acc 0.9999999999999994 trn_single_acc 0.9999999999999994 val_acc 0.9737822859145504\n",
      "itr: 960 trn_loss 0.007457932767398385 val_loss 1.0534545816099123\n",
      "itr: 960 trn_acc 0.9999999999999994 trn_single_acc 0.9999999999999994 val_acc 0.9737760408512326\n",
      "itr: 970 trn_loss 0.007444191794843062 val_loss 1.0532451722427139\n",
      "itr: 970 trn_acc 0.9999999999999994 trn_single_acc 0.9999999999999994 val_acc 0.9737704202942467\n",
      "itr: 980 trn_loss 0.007428281293450088 val_loss 1.0531049597326454\n",
      "itr: 980 trn_acc 0.9999999999999994 trn_single_acc 0.9999999999999994 val_acc 0.9737653617929592\n",
      "itr: 990 trn_loss 0.007416853666913104 val_loss 1.0528013492879453\n",
      "itr: 990 trn_acc 0.9999999999999994 trn_single_acc 0.9999999999999994 val_acc 0.9737608091418006\n",
      "itr: 1000 trn_loss 0.007404229047365518 val_loss 1.0524099634817705\n",
      "itr: 1000 trn_acc 0.9999999999999994 trn_single_acc 0.9999999999999994 val_acc 0.9737567117557578\n",
      "itr: 1010 trn_loss 0.007389641389857093 val_loss 1.0520787090121029\n",
      "itr: 1010 trn_acc 0.9999999999999994 trn_single_acc 0.9999999999999994 val_acc 0.9737675139974642\n",
      "itr: 1020 trn_loss 0.0073765322358942224 val_loss 1.0518431767873453\n",
      "itr: 1020 trn_acc 0.9999999999999994 trn_single_acc 0.9999999999999994 val_acc 0.9737772360149999\n"
     ]
    },
    {
     "name": "stdout",
     "output_type": "stream",
     "text": [
      "itr: 1030 trn_loss 0.0073605749638195675 val_loss 1.05185712323062\n",
      "itr: 1030 trn_acc 0.9999999999999994 trn_single_acc 0.9999999999999994 val_acc 0.973785985830782\n",
      "itr: 1040 trn_loss 0.00735034548459849 val_loss 1.0520182455671345\n",
      "itr: 1040 trn_acc 0.9999999999999994 trn_single_acc 0.9999999999999994 val_acc 0.9737793707758411\n",
      "itr: 1050 trn_loss 0.00733702407597272 val_loss 1.0522677664541467\n",
      "itr: 1050 trn_acc 0.9999999999999994 trn_single_acc 0.9999999999999994 val_acc 0.9737734172263942\n",
      "itr: 1060 trn_loss 0.007321603055639889 val_loss 1.0525804547592934\n",
      "itr: 1060 trn_acc 0.9999999999999994 trn_single_acc 0.9999999999999994 val_acc 0.973768059031892\n",
      "itr: 1070 trn_loss 0.007308057236341008 val_loss 1.0528547455184105\n",
      "itr: 1070 trn_acc 0.9999999999999994 trn_single_acc 0.9999999999999994 val_acc 0.9737632366568401\n",
      "itr: 1080 trn_loss 0.007296595967423598 val_loss 1.0530081828813949\n",
      "itr: 1080 trn_acc 0.9999999999999994 trn_single_acc 0.9999999999999994 val_acc 0.9737588965192934\n",
      "itr: 1090 trn_loss 0.007285557024284513 val_loss 1.0529954886777282\n",
      "itr: 1090 trn_acc 0.9999999999999994 trn_single_acc 0.9999999999999994 val_acc 0.9737549903955013\n",
      "itr: 1100 trn_loss 0.007271263889254133 val_loss 1.0527946641751897\n",
      "itr: 1100 trn_acc 0.9999999999999994 trn_single_acc 0.9999999999999994 val_acc 0.9737514748840884\n",
      "itr: 1110 trn_loss 0.007258016585822361 val_loss 1.0524961910285449\n",
      "itr: 1110 trn_acc 0.9999999999999994 trn_single_acc 0.9999999999999994 val_acc 0.9737772907021066\n",
      "itr: 1120 trn_loss 0.007245628615508587 val_loss 1.0521744932208563\n",
      "itr: 1120 trn_acc 0.9999999999999994 trn_single_acc 0.9999999999999994 val_acc 0.973810186851241\n",
      "itr: 1130 trn_loss 0.00723184503625211 val_loss 1.051894466174314\n",
      "itr: 1130 trn_acc 0.9999999999999994 trn_single_acc 0.9999999999999994 val_acc 0.9738639511479895\n",
      "itr: 1140 trn_loss 0.007222027029445447 val_loss 1.0516448498600748\n",
      "itr: 1140 trn_acc 0.9999999999999994 trn_single_acc 0.9999999999999994 val_acc 0.9738785193396176\n",
      "itr: 1150 trn_loss 0.007210366455383199 val_loss 1.0514329863340282\n",
      "itr: 1150 trn_acc 0.9999999999999994 trn_single_acc 0.9999999999999994 val_acc 0.9738819687991648\n",
      "itr: 1160 trn_loss 0.007197256789599399 val_loss 1.0513473802283964\n",
      "itr: 1160 trn_acc 0.9999999999999994 trn_single_acc 0.9999999999999994 val_acc 0.9738899072494485\n",
      "itr: 1170 trn_loss 0.007188258249253105 val_loss 1.0513580012448633\n",
      "itr: 1170 trn_acc 0.9999999999999994 trn_single_acc 0.9999999999999994 val_acc 0.973882561965559\n",
      "itr: 1180 trn_loss 0.007174001517210711 val_loss 1.0514873654956822\n",
      "itr: 1180 trn_acc 0.9999999999999994 trn_single_acc 0.9999999999999994 val_acc 0.9738662892971404\n",
      "itr: 1190 trn_loss 0.00716236709456084 val_loss 1.0514473549707417\n",
      "itr: 1190 trn_acc 0.9999999999999994 trn_single_acc 0.9999999999999994 val_acc 0.9738516438955636\n",
      "itr: 1200 trn_loss 0.007150867999714994 val_loss 1.0513159065410809\n",
      "itr: 1200 trn_acc 0.9999999999999994 trn_single_acc 0.9999999999999994 val_acc 0.9738432910103713\n",
      "itr: 1210 trn_loss 0.007141704233749872 val_loss 1.0511810328631386\n",
      "itr: 1210 trn_acc 0.9999999999999994 trn_single_acc 0.9999999999999994 val_acc 0.9738599252157611\n",
      "itr: 1220 trn_loss 0.007129484211161524 val_loss 1.0511575889052853\n",
      "itr: 1220 trn_acc 0.9999999999999994 trn_single_acc 0.9999999999999994 val_acc 0.9738748960006121\n",
      "itr: 1230 trn_loss 0.00711719696307388 val_loss 1.051291556787065\n",
      "itr: 1230 trn_acc 0.9999999999999994 trn_single_acc 0.9999999999999994 val_acc 0.9738883697069779\n",
      "itr: 1240 trn_loss 0.0071050790466433995 val_loss 1.0515863045736296\n",
      "itr: 1240 trn_acc 0.9999999999999994 trn_single_acc 0.9999999999999994 val_acc 0.973890834129789\n",
      "itr: 1250 trn_loss 0.007095630576477731 val_loss 1.0519723008290658\n",
      "itr: 1250 trn_acc 0.9999999999999994 trn_single_acc 0.9999999999999994 val_acc 0.9738785622211742\n",
      "itr: 1260 trn_loss 0.007083681717259029 val_loss 1.0524373093440291\n",
      "itr: 1260 trn_acc 0.9999999999999994 trn_single_acc 0.9999999999999994 val_acc 0.973862689527194\n",
      "itr: 1270 trn_loss 0.007074706313738874 val_loss 1.0529959117645762\n",
      "itr: 1270 trn_acc 0.9999999999999994 trn_single_acc 0.9999999999999994 val_acc 0.9738484041026119\n"
     ]
    }
   ],
   "source": [
    "eval_itr = -1\n",
    "bs = 64\n",
    "for itr in range(10000):\n",
    "    samples = np.random.choice(trn_samples, size = bs, replace = False)\n",
    "    if True:#itr == 0:\n",
    "        trn_feed_dict = {\n",
    "            cmd_ind : cmd_np[samples],\n",
    "            act_ind : act_np[samples],\n",
    "            mask_ph : mask_np[samples],\n",
    "            act_lengths : np.clip(struct_np[samples], a_min = 1, a_max = None),\n",
    "            cmd_lengths : cmd_lengths_np[samples],\n",
    "        }\n",
    "        \n",
    "    trn_feed_dict[learning_rate] = .01 / (np.sqrt(itr + 10))\n",
    "    _, trn_loss, acc_trn_single, acc_trn = sess.run(\n",
    "        [optimizer, loss, percent_correct, percent_fully_correct], trn_feed_dict)\n",
    "    if itr == 0:\n",
    "        trn_loss_avg = trn_loss\n",
    "        acc_trn_avg = acc_trn\n",
    "        acc_trn_single_avg = acc_trn_single\n",
    "    else:\n",
    "        trn_loss_avg = trn_loss_avg * .9 + trn_loss * .1\n",
    "        acc_trn_avg = acc_trn_avg * .9 + acc_trn * .1\n",
    "        acc_trn_single_avg = acc_trn_single_avg * .9 + acc_trn_single * .1\n",
    "    if itr % 10 == 0 and itr > 0:\n",
    "        # val_samples = np.random.choice(val_samples_all, size = bs, replace = False)\n",
    "        eval_itr += 1\n",
    "        val_feed_dict = {\n",
    "            cmd_ind : cmd_np[val_samples],\n",
    "            act_ind : act_np[val_samples],\n",
    "            mask_ph : mask_np[val_samples],\n",
    "            act_lengths : np.clip(struct_np[val_samples], a_min = 1, a_max = None),\n",
    "            cmd_lengths : cmd_lengths_np[val_samples]\n",
    "        }\n",
    "        val_loss, acc_val = sess.run([loss, percent_fully_correct], val_feed_dict)\n",
    "        if eval_itr == 0:\n",
    "            val_loss_avg = val_loss\n",
    "            acc_val_avg = acc_val\n",
    "        else:\n",
    "            val_loss_avg = val_loss_avg * .9 + val_loss * .1\n",
    "            acc_val_avg = acc_val_avg * .9 + acc_val * .1\n",
    "        print('itr:', itr, 'trn_loss', trn_loss_avg, 'val_loss', val_loss_avg)\n",
    "        print('itr:', itr, 'trn_acc', acc_trn_avg, \n",
    "              'trn_single_acc', acc_trn_single_avg, 'val_acc', acc_val_avg)"
   ]
  },
  {
   "cell_type": "code",
   "execution_count": null,
   "metadata": {},
   "outputs": [],
   "source": [
    "correct_percent.shape, percent_fully_correct.shape"
   ]
  },
  {
   "cell_type": "code",
   "execution_count": null,
   "metadata": {
    "scrolled": false
   },
   "outputs": [],
   "source": [
    "10, None, 7, 9, None"
   ]
  },
  {
   "cell_type": "code",
   "execution_count": null,
   "metadata": {},
   "outputs": [],
   "source": [
    "cmd_np.shape, act_np.shape, mask_np.shape, struct_np.shape, cmd_lengths_np.shape"
   ]
  },
  {
   "cell_type": "code",
   "execution_count": null,
   "metadata": {
    "scrolled": false
   },
   "outputs": [],
   "source": [
    "cmd_ind.shape, act_ind.shape, mask_ph.shape, act_lengths.shape, cmd_lengths.shape"
   ]
  },
  {
   "cell_type": "code",
   "execution_count": null,
   "metadata": {},
   "outputs": [],
   "source": [
    "trn_samples.shape, val_samples.shape"
   ]
  },
  {
   "cell_type": "code",
   "execution_count": null,
   "metadata": {
    "collapsed": true
   },
   "outputs": [],
   "source": [
    "\n",
    "act_presoftmax = tf.stack(action_probabilities_presoftmax, 1)[:, :, :-1, :]\n",
    "#batch, subprogram, timestep, action_selection\n",
    "logprobabilities = tf.nn.log_softmax(act_presoftmax, -1)\n",
    "act_presoftmax_flat = tf.reshape(act_presoftmax, [-1, 9, num_act])\n",
    "mask_ph_flat = tf.reshape(mask_ph, [-1, max_actions_per_subprogram])\n",
    "act_ind_flat = tf.reshape(act_ind, [-1, max_actions_per_subprogram])"
   ]
  },
  {
   "cell_type": "code",
   "execution_count": null,
   "metadata": {
    "collapsed": true
   },
   "outputs": [],
   "source": [
    "act_presoftmax_flat = tf.reshape(act_presoftmax, [-1, 9, num_act])"
   ]
  },
  {
   "cell_type": "code",
   "execution_count": null,
   "metadata": {},
   "outputs": [],
   "source": [
    "max_actions_per_subprogram"
   ]
  },
  {
   "cell_type": "code",
   "execution_count": null,
   "metadata": {
    "scrolled": true
   },
   "outputs": [],
   "source": [
    "sess.run(act_presoftmax, feed_dict).shape"
   ]
  },
  {
   "cell_type": "code",
   "execution_count": null,
   "metadata": {},
   "outputs": [],
   "source": [
    "action_map"
   ]
  },
  {
   "cell_type": "code",
   "execution_count": null,
   "metadata": {
    "scrolled": false
   },
   "outputs": [],
   "source": [
    "print(*actions_ind[2])"
   ]
  },
  {
   "cell_type": "code",
   "execution_count": null,
   "metadata": {},
   "outputs": [],
   "source": [
    "command_map"
   ]
  },
  {
   "cell_type": "code",
   "execution_count": null,
   "metadata": {},
   "outputs": [],
   "source": [
    "action_map"
   ]
  },
  {
   "cell_type": "code",
   "execution_count": null,
   "metadata": {
    "scrolled": true
   },
   "outputs": [],
   "source": [
    "subprogram_output"
   ]
  },
  {
   "cell_type": "code",
   "execution_count": null,
   "metadata": {},
   "outputs": [],
   "source": [
    "subprogram_last_layer[:,cmd_lengths,:]"
   ]
  },
  {
   "cell_type": "code",
   "execution_count": null,
   "metadata": {},
   "outputs": [],
   "source": [
    "encoding_last_layer"
   ]
  },
  {
   "cell_type": "code",
   "execution_count": null,
   "metadata": {},
   "outputs": [],
   "source": [
    "tf.gather(\n",
    "    encoding_last_layer,\n",
    "    [1,2],\n",
    "    axis=1\n",
    ")"
   ]
  },
  {
   "cell_type": "code",
   "execution_count": null,
   "metadata": {
    "collapsed": true
   },
   "outputs": [],
   "source": [
    "tf.gather_nd(\n",
    "    encoding_last_layer,\n",
    "    np.array([[0,1,2,3,4], [1,4,3,2,5]]).T,\n",
    "    name=None\n",
    ")"
   ]
  },
  {
   "cell_type": "code",
   "execution_count": null,
   "metadata": {
    "collapsed": true
   },
   "outputs": [],
   "source": [
    "cmd_lengths"
   ]
  },
  {
   "cell_type": "code",
   "execution_count": null,
   "metadata": {
    "collapsed": true
   },
   "outputs": [],
   "source": [
    "def generate_command(sub_cmd, num_repeat):\n",
    "    return sub_cmd * num_repeat"
   ]
  },
  {
   "cell_type": "code",
   "execution_count": null,
   "metadata": {
    "collapsed": true
   },
   "outputs": [],
   "source": [
    "def process_command(cmd):\n",
    "    "
   ]
  },
  {
   "cell_type": "code",
   "execution_count": null,
   "metadata": {
    "collapsed": true
   },
   "outputs": [],
   "source": [
    "uni_commands"
   ]
  },
  {
   "cell_type": "code",
   "execution_count": null,
   "metadata": {
    "collapsed": true
   },
   "outputs": [],
   "source": [
    "uni_actions"
   ]
  },
  {
   "cell_type": "code",
   "execution_count": null,
   "metadata": {
    "collapsed": true
   },
   "outputs": [],
   "source": [
    "uni_tokens"
   ]
  },
  {
   "cell_type": "code",
   "execution_count": null,
   "metadata": {
    "collapsed": true
   },
   "outputs": [],
   "source": [
    "df.shape"
   ]
  },
  {
   "cell_type": "code",
   "execution_count": null,
   "metadata": {
    "collapsed": true
   },
   "outputs": [],
   "source": []
  },
  {
   "cell_type": "code",
   "execution_count": null,
   "metadata": {
    "collapsed": true
   },
   "outputs": [],
   "source": []
  }
 ],
 "metadata": {
  "kernelspec": {
   "display_name": "Python 3",
   "language": "python",
   "name": "python3"
  },
  "language_info": {
   "codemirror_mode": {
    "name": "ipython",
    "version": 3
   },
   "file_extension": ".py",
   "mimetype": "text/x-python",
   "name": "python",
   "nbconvert_exporter": "python",
   "pygments_lexer": "ipython3",
   "version": "3.6.4"
  }
 },
 "nbformat": 4,
 "nbformat_minor": 2
}
